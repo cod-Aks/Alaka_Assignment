{
 "cells": [
  {
   "cell_type": "code",
   "execution_count": 1,
   "id": "5017ab31",
   "metadata": {},
   "outputs": [],
   "source": [
    "import numpy as np\n",
    "import matplotlib.pyplot as plt\n",
    "import pandas as pd\n",
    "import os       \n",
    "import sys\n",
    "import glob \n",
    "import logging\n",
    "import plotly.graph_objects as go\n",
    "from tabulate import tabulate"
   ]
  },
  {
   "cell_type": "code",
   "execution_count": 2,
   "id": "0fd4201b",
   "metadata": {},
   "outputs": [],
   "source": [
    "# Configure the logger\n",
    "logging.basicConfig(\n",
    "    level=logging.INFO,  \n",
    "    format='%(asctime)s - %(levelname)s - %(message)s',\n",
    "    handlers=[\n",
    "        logging.StreamHandler(), \n",
    "        logging.FileHandler(\"app.log\") \n",
    "    ]\n",
    ")\n",
    "\n",
    "logger = logging.getLogger(__name__)"
   ]
  },
  {
   "cell_type": "code",
   "execution_count": 3,
   "id": "0ed2a250",
   "metadata": {},
   "outputs": [],
   "source": [
    "data = pd.read_parquet(r'D:\\Ayush\\Assignment\\data\\candles\\BANKNIFTY\\2024-01-10\\46900PE.parquet.gz')\n",
    "# print(tabulate(data, headers='keys', tablefmt='grid'))"
   ]
  },
  {
   "cell_type": "code",
   "execution_count": 4,
   "id": "8d89d667",
   "metadata": {},
   "outputs": [],
   "source": [
    "class CandleConversion:\n",
    "    def __init__(self):\n",
    "        # self.df  = df\n",
    "        self.new_data = None\n",
    "\n",
    "    def time_interval(self,t):\n",
    "         value = int(t[:-1])\n",
    "         unit = t[-1]\n",
    "\n",
    "         if unit=='m':\n",
    "              return value\n",
    "         if unit=='h':\n",
    "              return value*60\n",
    "         if unit=='d':\n",
    "              return value*60*24\n",
    "         else:\n",
    "              raise ValueError(f\"Invalid Time Interval\")\n",
    "\n",
    "    def process_data(self):\n",
    "        pri=None\n",
    "        prices = ['46900PE','47100CE','47200CE','47400CE','47400PE','47600CE','47800PE']\n",
    "        \n",
    "        # list(strike_price)\n",
    "        input_data= input('Enter the input data path') or None\n",
    "        time = input('Enter the time interval for the candle combinator(1m,3m,30m)') or '5m'\n",
    "        strike_price = input('Which strike price would you want to convert(If you wish to convert all of them enter \"all\")') or 'all'\n",
    "        path = input('Please provide the path where you want to save the files') or None\n",
    "        t= self.time_interval(time)\n",
    "\n",
    "        if input_data is not None and os.path.exists(input_data):\n",
    "             df= pd.read_parquet((input_data))\n",
    "             specific_date = '2024-01-10'\n",
    "             df = df[df['date'].dt.date == pd.to_datetime(specific_date).date()]\n",
    "             self.new_data= self.combination(df,t)\n",
    "             if path is None:\n",
    "                    self.new_data.to_csv(f'{time}_{pri}.csv')\n",
    "                    logger.info(\"Output will be saved in the current directory\")\n",
    "             else:\n",
    "                    name= f'{time}_{pri}.csv'\n",
    "                    path = os.path.join(path,name)\n",
    "                    logger.info(f\"Output is saving in the path-> {path}\")\n",
    "                    self.new_data.to_csv(path, index = False)\n",
    "          \n",
    "            \n",
    "\n",
    "\n",
    "        elif strike_price== 'all':\n",
    "\n",
    "                for i in range(len(prices)):\n",
    "                    pri = prices[i]\n",
    "                    data_path = f'D:/Ayush/Assignment/data/candles/BANKNIFTY/2024-01-10/{pri}.parquet.gz'\n",
    "                    df= pd.read_parquet((data_path))\n",
    "                    specific_date = '2024-01-10'\n",
    "                    df = df[df['date'].dt.date == pd.to_datetime(specific_date).date()]\n",
    "                    self.new_data= self.combination(df,t)\n",
    "                    if path is None:\n",
    "                        self.new_data.to_csv(f'{time}_{pri}.csv')\n",
    "                        logger.info(\"Output will be saved in the current directory\")\n",
    "                    else:\n",
    "                        name= f'{time}_{pri}.csv'\n",
    "                        path = os.path.join(path,name)\n",
    "                        logger.info(f\"Output is saving in the path-> {path}\")\n",
    "                        self.new_data.to_csv(path, index = False)\n",
    "        elif strike_price != 'all':\n",
    "            if strike_price in prices:\n",
    "               pri = strike_price\n",
    "               data_path = f'D:/Ayush/Assignment/data/candles/BANKNIFTY/2024-01-10/{pri}.parquet.gz'\n",
    "               df= pd.read_parquet((data_path))\n",
    "               specific_date = '2024-01-10'\n",
    "               df = df[df['date'].dt.date == pd.to_datetime(specific_date).date()]\n",
    "               self.new_data= self.combination(df,t)\n",
    "               if path is None:\n",
    "                        file_name = f'{time}_{pri}.csv'\n",
    "                        self.new_data.to_csv(file_name)\n",
    "                        logger.info(\"Output will be saved in the current directory\")\n",
    "               else:\n",
    "                        name= f'{time}_{pri}.csv'\n",
    "                        path = os.path.join(path,name)\n",
    "\n",
    "                        logger.info(f\"Output is saving in the path-> {path}\")\n",
    "                        self.new_data.to_csv(path, index = False)\n",
    "            else:\n",
    "                 logger.warning(f'Data is not avaliable for {strike_price}')\n",
    "             \n",
    "        show = input('Do you wish to see the final data(Y or n)')\n",
    "        if show=='Y':\n",
    "             return self.get_data()\n",
    "        elif show =='n':\n",
    "             logger.info('Data saved Successfully')\n",
    "             return None\n",
    "        else:\n",
    "             logger.warning('Invalid Command')\n",
    "\n",
    "        \n",
    "    def combination(self,df,t):\n",
    "            logger.info(\"Candle Comination Started\")\n",
    "            columns = ['date','open','high','low','close']\n",
    "            rows = []\n",
    "\n",
    "            for i in range(0,len(df),t):\n",
    "                if i+t-1<=len(df):\n",
    "                    date = df.iloc[i]['date']\n",
    "                    high = max(df.iloc[i:i+t]['high'])\n",
    "                    open = df.iloc[i]['open']\n",
    "                    close= df.iloc[i+t-1]['close']\n",
    "                    low = min(df.iloc[i:i+t]['low'])\n",
    "\n",
    "                rows.append([date,open,high,low,close])\n",
    "            \n",
    "            self.new_data = pd.DataFrame(rows,columns=columns)\n",
    "            logger.info(f\"Combination of Candles into{t} minute candle is complete and the new data has {len(self.new_data)} rows\")\n",
    "          \n",
    "            print(\"Combination Complete!\")\n",
    "            return self.new_data\n",
    "\n",
    "    def get_data(self):\n",
    "         if self.new_data is None:\n",
    "              logger.warning(\"Data is not combined\")\n",
    "              return None\n",
    "         \n",
    "         else:\n",
    "              logger.info('Data combining')\n",
    "              print(tabulate(self.new_data, headers='keys', tablefmt='grid'))\n",
    "              return self.new_data\n",
    "    "
   ]
  },
  {
   "cell_type": "code",
   "execution_count": 5,
   "id": "3a060c06",
   "metadata": {},
   "outputs": [
    {
     "name": "stderr",
     "output_type": "stream",
     "text": [
      "2025-05-09 22:11:22,350 - INFO - Candle Comination Started\n",
      "2025-05-09 22:11:22,384 - INFO - Combination of Candles into5 minute candle is complete and the new data has 75 rows\n",
      "2025-05-09 22:11:22,392 - INFO - Output will be saved in the current directory\n",
      "2025-05-09 22:11:22,399 - INFO - Candle Comination Started\n",
      "2025-05-09 22:11:22,426 - INFO - Combination of Candles into5 minute candle is complete and the new data has 75 rows\n",
      "2025-05-09 22:11:22,429 - INFO - Output will be saved in the current directory\n",
      "2025-05-09 22:11:22,437 - INFO - Candle Comination Started\n",
      "2025-05-09 22:11:22,463 - INFO - Combination of Candles into5 minute candle is complete and the new data has 75 rows\n",
      "2025-05-09 22:11:22,465 - INFO - Output will be saved in the current directory\n",
      "2025-05-09 22:11:22,475 - INFO - Candle Comination Started\n",
      "2025-05-09 22:11:22,502 - INFO - Combination of Candles into5 minute candle is complete and the new data has 75 rows\n",
      "2025-05-09 22:11:22,505 - INFO - Output will be saved in the current directory\n",
      "2025-05-09 22:11:22,513 - INFO - Candle Comination Started\n",
      "2025-05-09 22:11:22,541 - INFO - Combination of Candles into5 minute candle is complete and the new data has 75 rows\n",
      "2025-05-09 22:11:22,544 - INFO - Output will be saved in the current directory\n",
      "2025-05-09 22:11:22,552 - INFO - Candle Comination Started\n",
      "2025-05-09 22:11:22,579 - INFO - Combination of Candles into5 minute candle is complete and the new data has 75 rows\n",
      "2025-05-09 22:11:22,581 - INFO - Output will be saved in the current directory\n",
      "2025-05-09 22:11:22,590 - INFO - Candle Comination Started\n"
     ]
    },
    {
     "name": "stdout",
     "output_type": "stream",
     "text": [
      "Combination Complete!\n",
      "Combination Complete!\n",
      "Combination Complete!\n",
      "Combination Complete!\n",
      "Combination Complete!\n",
      "Combination Complete!\n"
     ]
    },
    {
     "name": "stderr",
     "output_type": "stream",
     "text": [
      "2025-05-09 22:11:22,618 - INFO - Combination of Candles into5 minute candle is complete and the new data has 75 rows\n",
      "2025-05-09 22:11:22,621 - INFO - Output will be saved in the current directory\n"
     ]
    },
    {
     "name": "stdout",
     "output_type": "stream",
     "text": [
      "Combination Complete!\n"
     ]
    },
    {
     "name": "stderr",
     "output_type": "stream",
     "text": [
      "2025-05-09 22:11:23,956 - INFO - Data combining\n"
     ]
    },
    {
     "name": "stdout",
     "output_type": "stream",
     "text": [
      "+----+---------------------+--------+--------+--------+---------+\n",
      "|    | date                |   open |   high |    low |   close |\n",
      "+====+=====================+========+========+========+=========+\n",
      "|  0 | 2024-01-10 09:15:00 | 650    | 741.85 | 637    |  701.5  |\n",
      "+----+---------------------+--------+--------+--------+---------+\n",
      "|  1 | 2024-01-10 09:20:00 | 701.5  | 738    | 689.15 |  714.05 |\n",
      "+----+---------------------+--------+--------+--------+---------+\n",
      "|  2 | 2024-01-10 09:25:00 | 714.05 | 785    | 706.5  |  784.3  |\n",
      "+----+---------------------+--------+--------+--------+---------+\n",
      "|  3 | 2024-01-10 09:30:00 | 784.3  | 794.4  | 584.65 |  587    |\n",
      "+----+---------------------+--------+--------+--------+---------+\n",
      "|  4 | 2024-01-10 09:35:00 | 587    | 679    | 562.3  |  603    |\n",
      "+----+---------------------+--------+--------+--------+---------+\n",
      "|  5 | 2024-01-10 09:40:00 | 603    | 623.6  | 525    |  525    |\n",
      "+----+---------------------+--------+--------+--------+---------+\n",
      "|  6 | 2024-01-10 09:45:00 | 525    | 636.85 | 519.95 |  585.7  |\n",
      "+----+---------------------+--------+--------+--------+---------+\n",
      "|  7 | 2024-01-10 09:50:00 | 585.7  | 596    | 525.25 |  542.55 |\n",
      "+----+---------------------+--------+--------+--------+---------+\n",
      "|  8 | 2024-01-10 09:55:00 | 542.55 | 593.2  | 503.05 |  526.7  |\n",
      "+----+---------------------+--------+--------+--------+---------+\n",
      "|  9 | 2024-01-10 10:00:00 | 526.7  | 562    | 526.2  |  549    |\n",
      "+----+---------------------+--------+--------+--------+---------+\n",
      "| 10 | 2024-01-10 10:05:00 | 549    | 580.25 | 522.5  |  548.5  |\n",
      "+----+---------------------+--------+--------+--------+---------+\n",
      "| 11 | 2024-01-10 10:10:00 | 548.5  | 549.95 | 479.7  |  492.4  |\n",
      "+----+---------------------+--------+--------+--------+---------+\n",
      "| 12 | 2024-01-10 10:15:00 | 492.4  | 500.1  | 426.2  |  446.05 |\n",
      "+----+---------------------+--------+--------+--------+---------+\n",
      "| 13 | 2024-01-10 10:20:00 | 446.05 | 519    | 437.4  |  508.85 |\n",
      "+----+---------------------+--------+--------+--------+---------+\n",
      "| 14 | 2024-01-10 10:25:00 | 508.85 | 549.75 | 498.45 |  504.4  |\n",
      "+----+---------------------+--------+--------+--------+---------+\n",
      "| 15 | 2024-01-10 10:30:00 | 504.4  | 509.25 | 456.3  |  476.7  |\n",
      "+----+---------------------+--------+--------+--------+---------+\n",
      "| 16 | 2024-01-10 10:35:00 | 476.7  | 490.25 | 464.15 |  473.85 |\n",
      "+----+---------------------+--------+--------+--------+---------+\n",
      "| 17 | 2024-01-10 10:40:00 | 473.85 | 530    | 469.55 |  523.75 |\n",
      "+----+---------------------+--------+--------+--------+---------+\n",
      "| 18 | 2024-01-10 10:45:00 | 523.75 | 564.65 | 507.65 |  540.7  |\n",
      "+----+---------------------+--------+--------+--------+---------+\n",
      "| 19 | 2024-01-10 10:50:00 | 540.7  | 564.6  | 524.1  |  545.45 |\n",
      "+----+---------------------+--------+--------+--------+---------+\n",
      "| 20 | 2024-01-10 10:55:00 | 545.45 | 573.75 | 523.3  |  554.75 |\n",
      "+----+---------------------+--------+--------+--------+---------+\n",
      "| 21 | 2024-01-10 11:00:00 | 554.75 | 572.7  | 518.2  |  537    |\n",
      "+----+---------------------+--------+--------+--------+---------+\n",
      "| 22 | 2024-01-10 11:05:00 | 537    | 581.35 | 534    |  555.05 |\n",
      "+----+---------------------+--------+--------+--------+---------+\n",
      "| 23 | 2024-01-10 11:10:00 | 555.05 | 569.35 | 504.2  |  508.3  |\n",
      "+----+---------------------+--------+--------+--------+---------+\n",
      "| 24 | 2024-01-10 11:15:00 | 508.3  | 530.55 | 483.7  |  513.95 |\n",
      "+----+---------------------+--------+--------+--------+---------+\n",
      "| 25 | 2024-01-10 11:20:00 | 513.95 | 517.5  | 493.7  |  497.45 |\n",
      "+----+---------------------+--------+--------+--------+---------+\n",
      "| 26 | 2024-01-10 11:25:00 | 497.45 | 511.5  | 474.85 |  502    |\n",
      "+----+---------------------+--------+--------+--------+---------+\n",
      "| 27 | 2024-01-10 11:30:00 | 502    | 533.1  | 492.55 |  533.1  |\n",
      "+----+---------------------+--------+--------+--------+---------+\n",
      "| 28 | 2024-01-10 11:35:00 | 533.1  | 533.1  | 463    |  472.25 |\n",
      "+----+---------------------+--------+--------+--------+---------+\n",
      "| 29 | 2024-01-10 11:40:00 | 472.25 | 483    | 436.8  |  478.6  |\n",
      "+----+---------------------+--------+--------+--------+---------+\n",
      "| 30 | 2024-01-10 11:45:00 | 478.6  | 500.4  | 462.6  |  483.8  |\n",
      "+----+---------------------+--------+--------+--------+---------+\n",
      "| 31 | 2024-01-10 11:50:00 | 483.8  | 499.65 | 466.95 |  487    |\n",
      "+----+---------------------+--------+--------+--------+---------+\n",
      "| 32 | 2024-01-10 11:55:00 | 487    | 506.75 | 477.95 |  489    |\n",
      "+----+---------------------+--------+--------+--------+---------+\n",
      "| 33 | 2024-01-10 12:00:00 | 489    | 517    | 478    |  516.4  |\n",
      "+----+---------------------+--------+--------+--------+---------+\n",
      "| 34 | 2024-01-10 12:05:00 | 516.4  | 571.35 | 513.55 |  534    |\n",
      "+----+---------------------+--------+--------+--------+---------+\n",
      "| 35 | 2024-01-10 12:10:00 | 536.3  | 542.5  | 505.95 |  524    |\n",
      "+----+---------------------+--------+--------+--------+---------+\n",
      "| 36 | 2024-01-10 12:15:00 | 524    | 545.75 | 521    |  538.8  |\n",
      "+----+---------------------+--------+--------+--------+---------+\n",
      "| 37 | 2024-01-10 12:20:00 | 538.8  | 555.55 | 520.6  |  541.1  |\n",
      "+----+---------------------+--------+--------+--------+---------+\n",
      "| 38 | 2024-01-10 12:25:00 | 541.1  | 545.65 | 512.2  |  517.35 |\n",
      "+----+---------------------+--------+--------+--------+---------+\n",
      "| 39 | 2024-01-10 12:30:00 | 517.35 | 531.55 | 480.05 |  492.85 |\n",
      "+----+---------------------+--------+--------+--------+---------+\n",
      "| 40 | 2024-01-10 12:35:00 | 492.85 | 508.2  | 483.6  |  495.15 |\n",
      "+----+---------------------+--------+--------+--------+---------+\n",
      "| 41 | 2024-01-10 12:40:00 | 495.15 | 551.45 | 492    |  546.4  |\n",
      "+----+---------------------+--------+--------+--------+---------+\n",
      "| 42 | 2024-01-10 12:45:00 | 546.4  | 689.5  | 491.2  |  559.65 |\n",
      "+----+---------------------+--------+--------+--------+---------+\n",
      "| 43 | 2024-01-10 12:50:00 | 559.65 | 601    | 558.2  |  568.25 |\n",
      "+----+---------------------+--------+--------+--------+---------+\n",
      "| 44 | 2024-01-10 12:55:00 | 568.25 | 590.7  | 564.7  |  577.3  |\n",
      "+----+---------------------+--------+--------+--------+---------+\n",
      "| 45 | 2024-01-10 13:00:00 | 577.3  | 586.8  | 560.6  |  575.2  |\n",
      "+----+---------------------+--------+--------+--------+---------+\n",
      "| 46 | 2024-01-10 13:05:00 | 575.2  | 580.35 | 534    |  564    |\n",
      "+----+---------------------+--------+--------+--------+---------+\n",
      "| 47 | 2024-01-10 13:10:00 | 564    | 572.05 | 519.85 |  533.8  |\n",
      "+----+---------------------+--------+--------+--------+---------+\n",
      "| 48 | 2024-01-10 13:15:00 | 533.8  | 564.3  | 513    |  542.95 |\n",
      "+----+---------------------+--------+--------+--------+---------+\n",
      "| 49 | 2024-01-10 13:20:00 | 542.95 | 563.85 | 533.85 |  542.75 |\n",
      "+----+---------------------+--------+--------+--------+---------+\n",
      "| 50 | 2024-01-10 13:25:00 | 542.75 | 552.9  | 526.85 |  535.55 |\n",
      "+----+---------------------+--------+--------+--------+---------+\n",
      "| 51 | 2024-01-10 13:30:00 | 535.55 | 554    | 508.95 |  549.85 |\n",
      "+----+---------------------+--------+--------+--------+---------+\n",
      "| 52 | 2024-01-10 13:35:00 | 549.85 | 571    | 540    |  556    |\n",
      "+----+---------------------+--------+--------+--------+---------+\n",
      "| 53 | 2024-01-10 13:40:00 | 556    | 582.3  | 529.15 |  529.15 |\n",
      "+----+---------------------+--------+--------+--------+---------+\n",
      "| 54 | 2024-01-10 13:45:00 | 529.15 | 579.2  | 529.15 |  555.45 |\n",
      "+----+---------------------+--------+--------+--------+---------+\n",
      "| 55 | 2024-01-10 13:50:00 | 555.45 | 565.45 | 533.65 |  535.25 |\n",
      "+----+---------------------+--------+--------+--------+---------+\n",
      "| 56 | 2024-01-10 13:55:00 | 535.25 | 540.6  | 454.4  |  467.45 |\n",
      "+----+---------------------+--------+--------+--------+---------+\n",
      "| 57 | 2024-01-10 14:00:00 | 460    | 504    | 403.3  |  501.4  |\n",
      "+----+---------------------+--------+--------+--------+---------+\n",
      "| 58 | 2024-01-10 14:05:00 | 501.4  | 511.6  | 473    |  481.65 |\n",
      "+----+---------------------+--------+--------+--------+---------+\n",
      "| 59 | 2024-01-10 14:10:00 | 481.65 | 492.75 | 449.05 |  460.6  |\n",
      "+----+---------------------+--------+--------+--------+---------+\n",
      "| 60 | 2024-01-10 14:15:00 | 460.6  | 480.6  | 431.6  |  455    |\n",
      "+----+---------------------+--------+--------+--------+---------+\n",
      "| 61 | 2024-01-10 14:20:00 | 455.9  | 513.95 | 446    |  501.1  |\n",
      "+----+---------------------+--------+--------+--------+---------+\n",
      "| 62 | 2024-01-10 14:25:00 | 501.2  | 522    | 487.05 |  500.6  |\n",
      "+----+---------------------+--------+--------+--------+---------+\n",
      "| 63 | 2024-01-10 14:30:00 | 500.6  | 504.05 | 459.55 |  470.9  |\n",
      "+----+---------------------+--------+--------+--------+---------+\n",
      "| 64 | 2024-01-10 14:35:00 | 470.9  | 476.35 | 415.3  |  436.05 |\n",
      "+----+---------------------+--------+--------+--------+---------+\n",
      "| 65 | 2024-01-10 14:40:00 | 436.05 | 466.6  | 400    |  445.5  |\n",
      "+----+---------------------+--------+--------+--------+---------+\n",
      "| 66 | 2024-01-10 14:45:00 | 445.5  | 482.8  | 445    |  467.9  |\n",
      "+----+---------------------+--------+--------+--------+---------+\n",
      "| 67 | 2024-01-10 14:50:00 | 467.9  | 469.1  | 423.95 |  430.35 |\n",
      "+----+---------------------+--------+--------+--------+---------+\n",
      "| 68 | 2024-01-10 14:55:00 | 430.35 | 455    | 419.5  |  447.05 |\n",
      "+----+---------------------+--------+--------+--------+---------+\n",
      "| 69 | 2024-01-10 15:00:00 | 447.05 | 458    | 387.6  |  389.4  |\n",
      "+----+---------------------+--------+--------+--------+---------+\n",
      "| 70 | 2024-01-10 15:05:00 | 387.95 | 504.7  | 386.7  |  460.55 |\n",
      "+----+---------------------+--------+--------+--------+---------+\n",
      "| 71 | 2024-01-10 15:10:00 | 460.55 | 473    | 450.35 |  463.35 |\n",
      "+----+---------------------+--------+--------+--------+---------+\n",
      "| 72 | 2024-01-10 15:15:00 | 459.45 | 460.2  | 437.15 |  443.65 |\n",
      "+----+---------------------+--------+--------+--------+---------+\n",
      "| 73 | 2024-01-10 15:20:00 | 443.6  | 447.2  | 437.95 |  442    |\n",
      "+----+---------------------+--------+--------+--------+---------+\n",
      "| 74 | 2024-01-10 15:25:00 | 442    | 443.7  | 436.7  |  438.3  |\n",
      "+----+---------------------+--------+--------+--------+---------+\n"
     ]
    }
   ],
   "source": [
    "converter = CandleConversion()\n",
    "Converted = converter.process_data()"
   ]
  },
  {
   "cell_type": "markdown",
   "id": "bd44ce47",
   "metadata": {},
   "source": [
    "FIBBONACCI PIVOT POINT"
   ]
  },
  {
   "cell_type": "code",
   "execution_count": 6,
   "id": "aa11c303",
   "metadata": {},
   "outputs": [],
   "source": [
    "class Fibbonacci_Pivots:\n",
    "    def __init__(self,df):\n",
    "        self.df = df\n",
    "        self.new_data = None\n",
    "    \n",
    "    def pivot_calculation(self):\n",
    "        for i in range(len(self.df)):\n",
    "            pivot = (self.df.iloc[i]['high']+self.df.iloc[i]['low']+self.df.iloc[i]['close'])/3\n",
    "            self.df.loc[i,'pivot'] = pivot\n",
    "            self.df.loc[i,'R1'] = pivot +0.382*(self.df.iloc[i]['high']-self.df.iloc[i]['low'])\n",
    "            self.df.loc[i,'R2'] = pivot +0.681*(self.df.iloc[i]['high']-self.df.iloc[i]['low'])\n",
    "            self.df.loc[i,'R3'] = pivot +(self.df.iloc[i]['high']-self.df.iloc[i]['low'])\n",
    "            self.df.loc[i,'S1'] = max(pivot -0.382*(self.df.iloc[i]['high']-self.df.iloc[i]['low']),0)\n",
    "            self.df.loc[i,'S2'] = max(pivot -0.681*(self.df.iloc[i]['high']-self.df.iloc[i]['low']),0)\n",
    "            self.df.loc[i,'S3'] = max(pivot -(self.df.iloc[i]['high']-self.df.iloc[i]['low']),0)\n",
    "\n",
    "        return self.df\n",
    "    \n",
    "    def plot_pivots_points_and_levels(self,data):\n",
    "\n",
    "        fig = go.Figure()\n",
    "\n",
    "        fig.add_trace(go.Scatter(\n",
    "        x=data['date'],\n",
    "        y=data['close'],\n",
    "        mode='lines',\n",
    "        name='Closing Price',\n",
    "        line=dict(color='blue', width=2)\n",
    "        ))\n",
    "\n",
    "        levels = ['pivot','R1','R2','R3','S1','S2','S3']\n",
    "        colors = {\n",
    "            'pivot': 'orange',\n",
    "            'R1': 'green',\n",
    "            'R2': 'green',\n",
    "            'R3': 'green',\n",
    "            'S1': 'red',\n",
    "            'S2': 'red',\n",
    "            'S3': 'red'\n",
    "        }\n",
    "\n",
    "        for level in levels:\n",
    "            if level in data.columns:\n",
    "                fig.add_trace(go.Scatter(\n",
    "                    x=data['date'],\n",
    "                    y=data[level],\n",
    "                    mode='lines',\n",
    "                    name=level,\n",
    "                    line=dict(color=colors[level], dash='dot', width=1.5)\n",
    "                ))\n",
    "\n",
    "\n",
    "        fig.update_layout(\n",
    "            title=\"Closing Prices and Levels\",\n",
    "            xaxis_title=\"Date\",\n",
    "            yaxis_title=\"Price\",\n",
    "            template=\"plotly_white\",\n",
    "            width=1000,\n",
    "            height=600,\n",
    "            legend=dict(\n",
    "                orientation=\"h\",\n",
    "                yanchor=\"bottom\",\n",
    "                y=1.02,\n",
    "                xanchor=\"right\",\n",
    "                x=1\n",
    "            )\n",
    "        )\n",
    "\n",
    "        fig.show()\n",
    "\n",
    "    def user(self):\n",
    "        q1 = input('Do you want to add the Resistance and Support Levels in your dataframe(Y or n)')\n",
    "        if q1== 'Y':\n",
    "            logger.info('Converting dataframe')\n",
    "            self.new_data = self.pivot_calculation()\n",
    "            \n",
    "            q2= input('Do you want to plot the levels along with the prices(Y or n)')\n",
    "            if q2=='Y':\n",
    "                logger.info('Plotting Levels')\n",
    "                self.plot_pivots_points_and_levels(self.new_data)\n",
    "            elif q2=='n':\n",
    "                logger.info('Skipping Plot')\n",
    "                pass\n",
    "            else:\n",
    "                logger.error('Invalid Input')\n",
    "                return\n",
    "            \n",
    "\n",
    "\n",
    "            print(tabulate(self.new_data, headers='keys', tablefmt='grid'))\n",
    "            \n",
    "            return self.new_data\n",
    "        elif q1=='n':\n",
    "            return None\n",
    "        else:\n",
    "            logger.error('Invlaid Input')\n",
    "\n",
    "\n",
    "\n",
    "    "
   ]
  },
  {
   "cell_type": "code",
   "execution_count": 7,
   "id": "f09284c6",
   "metadata": {},
   "outputs": [
    {
     "name": "stderr",
     "output_type": "stream",
     "text": [
      "2025-05-09 22:11:25,178 - INFO - Converting dataframe\n",
      "2025-05-09 22:11:26,514 - INFO - Plotting Levels\n"
     ]
    },
    {
     "data": {
      "application/vnd.plotly.v1+json": {
       "config": {
        "plotlyServerURL": "https://plot.ly"
       },
       "data": [
        {
         "line": {
          "color": "blue",
          "width": 2
         },
         "mode": "lines",
         "name": "Closing Price",
         "type": "scatter",
         "x": [
          "2024-01-10T09:15:00",
          "2024-01-10T09:20:00",
          "2024-01-10T09:25:00",
          "2024-01-10T09:30:00",
          "2024-01-10T09:35:00",
          "2024-01-10T09:40:00",
          "2024-01-10T09:45:00",
          "2024-01-10T09:50:00",
          "2024-01-10T09:55:00",
          "2024-01-10T10:00:00",
          "2024-01-10T10:05:00",
          "2024-01-10T10:10:00",
          "2024-01-10T10:15:00",
          "2024-01-10T10:20:00",
          "2024-01-10T10:25:00",
          "2024-01-10T10:30:00",
          "2024-01-10T10:35:00",
          "2024-01-10T10:40:00",
          "2024-01-10T10:45:00",
          "2024-01-10T10:50:00",
          "2024-01-10T10:55:00",
          "2024-01-10T11:00:00",
          "2024-01-10T11:05:00",
          "2024-01-10T11:10:00",
          "2024-01-10T11:15:00",
          "2024-01-10T11:20:00",
          "2024-01-10T11:25:00",
          "2024-01-10T11:30:00",
          "2024-01-10T11:35:00",
          "2024-01-10T11:40:00",
          "2024-01-10T11:45:00",
          "2024-01-10T11:50:00",
          "2024-01-10T11:55:00",
          "2024-01-10T12:00:00",
          "2024-01-10T12:05:00",
          "2024-01-10T12:10:00",
          "2024-01-10T12:15:00",
          "2024-01-10T12:20:00",
          "2024-01-10T12:25:00",
          "2024-01-10T12:30:00",
          "2024-01-10T12:35:00",
          "2024-01-10T12:40:00",
          "2024-01-10T12:45:00",
          "2024-01-10T12:50:00",
          "2024-01-10T12:55:00",
          "2024-01-10T13:00:00",
          "2024-01-10T13:05:00",
          "2024-01-10T13:10:00",
          "2024-01-10T13:15:00",
          "2024-01-10T13:20:00",
          "2024-01-10T13:25:00",
          "2024-01-10T13:30:00",
          "2024-01-10T13:35:00",
          "2024-01-10T13:40:00",
          "2024-01-10T13:45:00",
          "2024-01-10T13:50:00",
          "2024-01-10T13:55:00",
          "2024-01-10T14:00:00",
          "2024-01-10T14:05:00",
          "2024-01-10T14:10:00",
          "2024-01-10T14:15:00",
          "2024-01-10T14:20:00",
          "2024-01-10T14:25:00",
          "2024-01-10T14:30:00",
          "2024-01-10T14:35:00",
          "2024-01-10T14:40:00",
          "2024-01-10T14:45:00",
          "2024-01-10T14:50:00",
          "2024-01-10T14:55:00",
          "2024-01-10T15:00:00",
          "2024-01-10T15:05:00",
          "2024-01-10T15:10:00",
          "2024-01-10T15:15:00",
          "2024-01-10T15:20:00",
          "2024-01-10T15:25:00"
         ],
         "y": {
          "bdata": "AAAAAADshUBmZmZmZlCGQGZmZmZmgohAAAAAAABYgkAAAAAAANiCQAAAAAAAaIBAmpmZmZlNgkBmZmZmZvSAQJqZmZmZdYBAAAAAAAAogUAAAAAAACSBQGZmZmZmxn5AzczMzMzge0CamZmZmc1/QGZmZmZmhn9AMzMzMzPLfUCamZmZmZ19QAAAAAAAXoBAmpmZmZnlgECamZmZmQuBQAAAAAAAVoFAAAAAAADIgEBmZmZmZliBQM3MzMzMxH9AmpmZmZkPgEAzMzMzMxd/QAAAAAAAYH9AzczMzMyogEAAAAAAAIR9QJqZmZmZ6X1AzczMzMw8fkAAAAAAAHB+QAAAAAAAkH5AMzMzMzMjgEAAAAAAALCAQAAAAAAAYIBAZmZmZmbWgEDNzMzMzOiAQM3MzMzMKoBAmpmZmZnNfkBmZmZmZvJ+QDMzMzMzE4FAMzMzMzN9gUAAAAAAAMKBQGZmZmZmCoJAmpmZmZn5gUAAAAAAAKCBQGZmZmZmroBAmpmZmZn3gEAAAAAAAPaAQGZmZmZmvIBAzczMzMwugUAAAAAAAGCBQDMzMzMziYBAmpmZmZlbgUAAAAAAALqAQDMzMzMzN31AZmZmZmZWf0BmZmZmZhp+QJqZmZmZyXxAAAAAAABwfECamZmZmVF/QJqZmZmZSX9AZmZmZmZufUDNzMzMzEB7QAAAAAAA2HtAZmZmZmY+fUCamZmZmeV6QM3MzMzM8HtAZmZmZmZWeEDNzMzMzMh8QJqZmZmZ9XxAZmZmZma6e0AAAAAAAKB7QM3MzMzMZHtA",
          "dtype": "f8"
         }
        },
        {
         "line": {
          "color": "orange",
          "dash": "dot",
          "width": 1.5
         },
         "mode": "lines",
         "name": "pivot",
         "type": "scatter",
         "x": [
          "2024-01-10T09:15:00",
          "2024-01-10T09:20:00",
          "2024-01-10T09:25:00",
          "2024-01-10T09:30:00",
          "2024-01-10T09:35:00",
          "2024-01-10T09:40:00",
          "2024-01-10T09:45:00",
          "2024-01-10T09:50:00",
          "2024-01-10T09:55:00",
          "2024-01-10T10:00:00",
          "2024-01-10T10:05:00",
          "2024-01-10T10:10:00",
          "2024-01-10T10:15:00",
          "2024-01-10T10:20:00",
          "2024-01-10T10:25:00",
          "2024-01-10T10:30:00",
          "2024-01-10T10:35:00",
          "2024-01-10T10:40:00",
          "2024-01-10T10:45:00",
          "2024-01-10T10:50:00",
          "2024-01-10T10:55:00",
          "2024-01-10T11:00:00",
          "2024-01-10T11:05:00",
          "2024-01-10T11:10:00",
          "2024-01-10T11:15:00",
          "2024-01-10T11:20:00",
          "2024-01-10T11:25:00",
          "2024-01-10T11:30:00",
          "2024-01-10T11:35:00",
          "2024-01-10T11:40:00",
          "2024-01-10T11:45:00",
          "2024-01-10T11:50:00",
          "2024-01-10T11:55:00",
          "2024-01-10T12:00:00",
          "2024-01-10T12:05:00",
          "2024-01-10T12:10:00",
          "2024-01-10T12:15:00",
          "2024-01-10T12:20:00",
          "2024-01-10T12:25:00",
          "2024-01-10T12:30:00",
          "2024-01-10T12:35:00",
          "2024-01-10T12:40:00",
          "2024-01-10T12:45:00",
          "2024-01-10T12:50:00",
          "2024-01-10T12:55:00",
          "2024-01-10T13:00:00",
          "2024-01-10T13:05:00",
          "2024-01-10T13:10:00",
          "2024-01-10T13:15:00",
          "2024-01-10T13:20:00",
          "2024-01-10T13:25:00",
          "2024-01-10T13:30:00",
          "2024-01-10T13:35:00",
          "2024-01-10T13:40:00",
          "2024-01-10T13:45:00",
          "2024-01-10T13:50:00",
          "2024-01-10T13:55:00",
          "2024-01-10T14:00:00",
          "2024-01-10T14:05:00",
          "2024-01-10T14:10:00",
          "2024-01-10T14:15:00",
          "2024-01-10T14:20:00",
          "2024-01-10T14:25:00",
          "2024-01-10T14:30:00",
          "2024-01-10T14:35:00",
          "2024-01-10T14:40:00",
          "2024-01-10T14:45:00",
          "2024-01-10T14:50:00",
          "2024-01-10T14:55:00",
          "2024-01-10T15:00:00",
          "2024-01-10T15:05:00",
          "2024-01-10T15:10:00",
          "2024-01-10T15:15:00",
          "2024-01-10T15:20:00",
          "2024-01-10T15:25:00"
         ],
         "y": {
          "bdata": "mZmZmZmrhUDd3d3d3U2GQM3MzMzMtIdAzczMzMx6hEAiIiIiIjaDQO/u7u7uboFAq6qqqqomgkDNzMzMzFSBQN7d3d3d54BA3t3d3d0NgUBVVVVVVTOBQJuZmZmZtX9AMzMzMzOXfECrqqqqqoZ+QERERERELIBAAAAAAAAMfkBVVVVVVcF9QEREREREvH9AVVVVVVXNgEC8u7u7uwWBQM3MzMzMNIFAERERERH1gEBmZmZmZmaBQEREREREeoBAZ2ZmZmbWf0AjIiIiIm5/QN3d3d3dAX9Aq6qqqqo8gEAzMzMzM5d+QCMiIiIiIn1AREREREQkfkCIiIiIiEh+QLy7u7u7s35AzczMzMx8f0AREREREd2AQDMzMzMzYYBAd3d3d3e5gECrqqqqqtiAQIiIiIiIaIBAu7u7u7tXf0BlZmZmZvp+QJmZmZmZj4BA7+7u7u4ggkCJiIiIiP6BQImIiIiIDIJAmpmZmZnxgUCZmZmZmXuBQDMzMzMz74BAq6qqqqrggECJiIiIiBaBQHd3d3d304BAzczMzMzMgEBVVVVVVV2BQO/u7u7uFoFAzczMzMxUgUBERERERAaBQLy7u7u7d35AEBERERFZfUAAAAAAAIx+QHh3d3d3N31AvLu7u7t7fEBFRERERHB+QHh3d3d3c39Aq6qqqqrifUAREREREal7QN3d3d3dVXtAu7u7u7sTfUAjIiIiIpJ7QEREREREiHtAq6qqqqq6eUBnZmZmZip8QLy7u7u743xAAAAAAADwe0AjIiIiIqZ7QBEREREReXtA",
          "dtype": "f8"
         }
        },
        {
         "line": {
          "color": "green",
          "dash": "dot",
          "width": 1.5
         },
         "mode": "lines",
         "name": "R1",
         "type": "scatter",
         "x": [
          "2024-01-10T09:15:00",
          "2024-01-10T09:20:00",
          "2024-01-10T09:25:00",
          "2024-01-10T09:30:00",
          "2024-01-10T09:35:00",
          "2024-01-10T09:40:00",
          "2024-01-10T09:45:00",
          "2024-01-10T09:50:00",
          "2024-01-10T09:55:00",
          "2024-01-10T10:00:00",
          "2024-01-10T10:05:00",
          "2024-01-10T10:10:00",
          "2024-01-10T10:15:00",
          "2024-01-10T10:20:00",
          "2024-01-10T10:25:00",
          "2024-01-10T10:30:00",
          "2024-01-10T10:35:00",
          "2024-01-10T10:40:00",
          "2024-01-10T10:45:00",
          "2024-01-10T10:50:00",
          "2024-01-10T10:55:00",
          "2024-01-10T11:00:00",
          "2024-01-10T11:05:00",
          "2024-01-10T11:10:00",
          "2024-01-10T11:15:00",
          "2024-01-10T11:20:00",
          "2024-01-10T11:25:00",
          "2024-01-10T11:30:00",
          "2024-01-10T11:35:00",
          "2024-01-10T11:40:00",
          "2024-01-10T11:45:00",
          "2024-01-10T11:50:00",
          "2024-01-10T11:55:00",
          "2024-01-10T12:00:00",
          "2024-01-10T12:05:00",
          "2024-01-10T12:10:00",
          "2024-01-10T12:15:00",
          "2024-01-10T12:20:00",
          "2024-01-10T12:25:00",
          "2024-01-10T12:30:00",
          "2024-01-10T12:35:00",
          "2024-01-10T12:40:00",
          "2024-01-10T12:45:00",
          "2024-01-10T12:50:00",
          "2024-01-10T12:55:00",
          "2024-01-10T13:00:00",
          "2024-01-10T13:05:00",
          "2024-01-10T13:10:00",
          "2024-01-10T13:15:00",
          "2024-01-10T13:20:00",
          "2024-01-10T13:25:00",
          "2024-01-10T13:30:00",
          "2024-01-10T13:35:00",
          "2024-01-10T13:40:00",
          "2024-01-10T13:45:00",
          "2024-01-10T13:50:00",
          "2024-01-10T13:55:00",
          "2024-01-10T14:00:00",
          "2024-01-10T14:05:00",
          "2024-01-10T14:10:00",
          "2024-01-10T14:15:00",
          "2024-01-10T14:20:00",
          "2024-01-10T14:25:00",
          "2024-01-10T14:30:00",
          "2024-01-10T14:35:00",
          "2024-01-10T14:40:00",
          "2024-01-10T14:45:00",
          "2024-01-10T14:50:00",
          "2024-01-10T14:55:00",
          "2024-01-10T15:00:00",
          "2024-01-10T15:05:00",
          "2024-01-10T15:10:00",
          "2024-01-10T15:15:00",
          "2024-01-10T15:20:00",
          "2024-01-10T15:25:00"
         ],
         "y": {
          "bdata": "l92ThwXshkCawfL6JuOGQARWDi2ypIhAnu+nxsv7hkCOvJm+xJqEQFSZT0NBnIJAZ7C8vumLg0COl24SAy2CQDJSAnVd+4FASufWfkV7gUCZ4ME80eOBQESLbOd7sYBAIv32deBafkDwXXDzszyAQJ3KfBoKyYBAZvfkYaFPf0CavsRF22B+QCdWM1jeloBAKs4+fIZ7gUAQn2FXgIGBQBALtab5zoFAdUzwYJ6bgUBGJXUCGveBQDFSAnVdQYFAyeU/pF96gEAo57FTmf9/QOKAcBjf4X9A0yg3ZJa4gECUh4Va0yGAQMLNz/qBPH5AablG3kwLf0CanMdOZRB/QIN2dEnCY39A3SQGgZU1gEApN2QWtI2BQA1Pr5Tl0IBAuddcSBoFgUAAbFNPeUOBQP8kK6zBzoBAh8+wK0BJgEDvhclUwZB/QAu1pnlHRYFA9JGBKfB+hED9PZ6DVIGCQIMH80T9W4JA5IOezapBgkDlP6TfPgmCQHecoiO5joFABDHjgHB9gUDRaQOdNnKBQEWRyFETI4FAjblrCXlWgUAwT9S/EbyBQPPVexdcuYFAbjSAt8DtgUBi6yyNcmeBQLiK2DpLQ4BAeDN9iYvAf0Crz9VW7Hd/QDaoEKKPQn5ALyRNqTinfUB6DlLdyQeAQBF9ZGCKJIBA7zUXkqbyfkD//NFKNB59QMoNmQXt7HxA4DC+VcT6fUDzZvoSF6Z8QCkVZx8+YXxAkchRk/Noe0BXDi2ynft+QKCu240rbn1AJ6CJsOF8fEDL6G1Zq957QCFpSsXZo3tA",
          "dtype": "f8"
         }
        },
        {
         "line": {
          "color": "green",
          "dash": "dot",
          "width": 1.5
         },
         "mode": "lines",
         "name": "R2",
         "type": "scatter",
         "x": [
          "2024-01-10T09:15:00",
          "2024-01-10T09:20:00",
          "2024-01-10T09:25:00",
          "2024-01-10T09:30:00",
          "2024-01-10T09:35:00",
          "2024-01-10T09:40:00",
          "2024-01-10T09:45:00",
          "2024-01-10T09:50:00",
          "2024-01-10T09:55:00",
          "2024-01-10T10:00:00",
          "2024-01-10T10:05:00",
          "2024-01-10T10:10:00",
          "2024-01-10T10:15:00",
          "2024-01-10T10:20:00",
          "2024-01-10T10:25:00",
          "2024-01-10T10:30:00",
          "2024-01-10T10:35:00",
          "2024-01-10T10:40:00",
          "2024-01-10T10:45:00",
          "2024-01-10T10:50:00",
          "2024-01-10T10:55:00",
          "2024-01-10T11:00:00",
          "2024-01-10T11:05:00",
          "2024-01-10T11:10:00",
          "2024-01-10T11:15:00",
          "2024-01-10T11:20:00",
          "2024-01-10T11:25:00",
          "2024-01-10T11:30:00",
          "2024-01-10T11:35:00",
          "2024-01-10T11:40:00",
          "2024-01-10T11:45:00",
          "2024-01-10T11:50:00",
          "2024-01-10T11:55:00",
          "2024-01-10T12:00:00",
          "2024-01-10T12:05:00",
          "2024-01-10T12:10:00",
          "2024-01-10T12:15:00",
          "2024-01-10T12:20:00",
          "2024-01-10T12:25:00",
          "2024-01-10T12:30:00",
          "2024-01-10T12:35:00",
          "2024-01-10T12:40:00",
          "2024-01-10T12:45:00",
          "2024-01-10T12:50:00",
          "2024-01-10T12:55:00",
          "2024-01-10T13:00:00",
          "2024-01-10T13:05:00",
          "2024-01-10T13:10:00",
          "2024-01-10T13:15:00",
          "2024-01-10T13:20:00",
          "2024-01-10T13:25:00",
          "2024-01-10T13:30:00",
          "2024-01-10T13:35:00",
          "2024-01-10T13:40:00",
          "2024-01-10T13:45:00",
          "2024-01-10T13:50:00",
          "2024-01-10T13:55:00",
          "2024-01-10T14:00:00",
          "2024-01-10T14:05:00",
          "2024-01-10T14:10:00",
          "2024-01-10T14:15:00",
          "2024-01-10T14:20:00",
          "2024-01-10T14:25:00",
          "2024-01-10T14:30:00",
          "2024-01-10T14:35:00",
          "2024-01-10T14:40:00",
          "2024-01-10T14:45:00",
          "2024-01-10T14:50:00",
          "2024-01-10T14:55:00",
          "2024-01-10T15:00:00",
          "2024-01-10T15:05:00",
          "2024-01-10T15:10:00",
          "2024-01-10T15:15:00",
          "2024-01-10T15:20:00",
          "2024-01-10T15:25:00"
         ],
         "y": {
          "bdata": "JlMFo9Lmh0BdlR5gAFiHQIcW2c53YIlAVOOlm4TxiECwKBI56rGFQK/bjSsbiINA8T6hsYmjhEDRItv5PtaCQOHmZ/0A04JACPZysufQgUByr7mQ9G2CQITAyqGFWYFAd08eFmq8f0C/M8ff4/+AQNtD1cK/Q4FAyxDHungmgECs0gMMuN1+QHz13gV3J4FA/RuhjN4DgkBc1uqYYOKBQBPyQc+mR4JANOwKkPsdgkD99nXgXGiCQBQamzA03YFAfGEyVXDqgEDw8RykujiAQGrhnz+aSIBAuWjbQ5UZgUAFo5I6gcmAQITl9U2HGX9AB4fxrSLAf0B+j+cg1ax/QI4rG8OJ7X9AHVpkO9+SgECcDncI9heCQNLe4AtTKIFAg3mi/k1AgUCE6CMDE5eBQHif0NjEHoFALWt1THDEgED0SlmGOAOAQFioNc1704FA5tNQkEVZhkD1AAMuteeCQFiA3GsumoJAIR/0bFaAgkCUZYhjHXiCQImw4emVC4JAQqo7KSb4gUDGkl8s+bmBQLQSzRZjYYFAl/+QfjvCgUAuJE2pOAaCQHONvJl+OIJAotY073hlgkAASlZYg7OBQOF35vh7EYFAW0VsnSXRgEBF2PD0ShiAQM9jpzKfE39AUv9GKKORfkANuNQuU6qAQJX5NBQkeIBAyAQP5onHf0AbCrJ4REJ+QHOQ6k6KK35Af/5oJZqvfkBxFbF1Fn59QG/LWh0TC31ArGawvL65fEDy0k1iEJiAQK0fiBmH2n1A1JrmHSfrfEBiV4Dc6wp8QJTR27JWxXtA",
          "dtype": "f8"
         }
        },
        {
         "line": {
          "color": "green",
          "dash": "dot",
          "width": 1.5
         },
         "mode": "lines",
         "name": "R3",
         "type": "scatter",
         "x": [
          "2024-01-10T09:15:00",
          "2024-01-10T09:20:00",
          "2024-01-10T09:25:00",
          "2024-01-10T09:30:00",
          "2024-01-10T09:35:00",
          "2024-01-10T09:40:00",
          "2024-01-10T09:45:00",
          "2024-01-10T09:50:00",
          "2024-01-10T09:55:00",
          "2024-01-10T10:00:00",
          "2024-01-10T10:05:00",
          "2024-01-10T10:10:00",
          "2024-01-10T10:15:00",
          "2024-01-10T10:20:00",
          "2024-01-10T10:25:00",
          "2024-01-10T10:30:00",
          "2024-01-10T10:35:00",
          "2024-01-10T10:40:00",
          "2024-01-10T10:45:00",
          "2024-01-10T10:50:00",
          "2024-01-10T10:55:00",
          "2024-01-10T11:00:00",
          "2024-01-10T11:05:00",
          "2024-01-10T11:10:00",
          "2024-01-10T11:15:00",
          "2024-01-10T11:20:00",
          "2024-01-10T11:25:00",
          "2024-01-10T11:30:00",
          "2024-01-10T11:35:00",
          "2024-01-10T11:40:00",
          "2024-01-10T11:45:00",
          "2024-01-10T11:50:00",
          "2024-01-10T11:55:00",
          "2024-01-10T12:00:00",
          "2024-01-10T12:05:00",
          "2024-01-10T12:10:00",
          "2024-01-10T12:15:00",
          "2024-01-10T12:20:00",
          "2024-01-10T12:25:00",
          "2024-01-10T12:30:00",
          "2024-01-10T12:35:00",
          "2024-01-10T12:40:00",
          "2024-01-10T12:45:00",
          "2024-01-10T12:50:00",
          "2024-01-10T12:55:00",
          "2024-01-10T13:00:00",
          "2024-01-10T13:05:00",
          "2024-01-10T13:10:00",
          "2024-01-10T13:15:00",
          "2024-01-10T13:20:00",
          "2024-01-10T13:25:00",
          "2024-01-10T13:30:00",
          "2024-01-10T13:35:00",
          "2024-01-10T13:40:00",
          "2024-01-10T13:45:00",
          "2024-01-10T13:50:00",
          "2024-01-10T13:55:00",
          "2024-01-10T14:00:00",
          "2024-01-10T14:05:00",
          "2024-01-10T14:10:00",
          "2024-01-10T14:15:00",
          "2024-01-10T14:20:00",
          "2024-01-10T14:25:00",
          "2024-01-10T14:30:00",
          "2024-01-10T14:35:00",
          "2024-01-10T14:40:00",
          "2024-01-10T14:45:00",
          "2024-01-10T14:50:00",
          "2024-01-10T14:55:00",
          "2024-01-10T15:00:00",
          "2024-01-10T15:05:00",
          "2024-01-10T15:10:00",
          "2024-01-10T15:15:00",
          "2024-01-10T15:20:00",
          "2024-01-10T15:25:00"
         ],
         "y": {
          "bdata": "ZmZmZmbyiECqqqqqqtSHQM3MzMzMKIpAzczMzMwIi0C8u7u7u9uGQLy7u7u7g4RA3t3d3d3NhUDNzMzMzIqDQBIRERERuYNAREREREQsgkBVVVVVVQGDQM7MzMzMDIJAzczMzMyagEAiIiIiItCBQKqqqqqqxoFAmpmZmZmtgEDv7u7u7mJ/QLy7u7u7wYFAVVVVVVWVgkC8u7u7u0mCQGdmZmZmyIJAERERERGpgkAzMzMzM+GCQHh3d3d3g4JAAAAAAABigUB4d3d3d3WAQCIiIiIipoBAEhERERGBgUBmZmZmZnyBQKuqqqqqAoBAiIiIiIhAgEDe3d3d3SmAQEREREREQIBAZmZmZmb2gEB4d3d3d6uCQJqZmZmZhYFAd3d3d3d/gUBERERERPCBQCEiIiIidIFA3d3d3d1HgUD//////0GAQDMzMzMza4JAVlVVVVVTiEDv7u7u7lSDQImIiIiI3IJAMzMzMzPDgkBmZmZmZu6CQMzMzMzMkIJAERERERF7gkCJiIiIiAaCQN3d3d3do4FANDMzMzM1gkBVVVVVVVWCQCIiIiIiwIJANDMzMzPlgkCrqqqqqgSCQHh3d3d37YFAIiIiIiLSgUDNzMzMzHqAQKuqqqqq8n9AvLu7u7uLf0C8u7u7u1eBQFZVVVVV0YBAVlVVVVVVgEDe3d3d3Xl/QHd3d3d3f39AiIiIiIhwf0CKiIiIiGR+QEREREREwH1AEREREREhfkA0MzMzM8WBQCIiIiIiTn5AzczMzMxgfUAjIiIiIjp8QBERERER6XtA",
          "dtype": "f8"
         }
        },
        {
         "line": {
          "color": "red",
          "dash": "dot",
          "width": 1.5
         },
         "mode": "lines",
         "name": "S1",
         "type": "scatter",
         "x": [
          "2024-01-10T09:15:00",
          "2024-01-10T09:20:00",
          "2024-01-10T09:25:00",
          "2024-01-10T09:30:00",
          "2024-01-10T09:35:00",
          "2024-01-10T09:40:00",
          "2024-01-10T09:45:00",
          "2024-01-10T09:50:00",
          "2024-01-10T09:55:00",
          "2024-01-10T10:00:00",
          "2024-01-10T10:05:00",
          "2024-01-10T10:10:00",
          "2024-01-10T10:15:00",
          "2024-01-10T10:20:00",
          "2024-01-10T10:25:00",
          "2024-01-10T10:30:00",
          "2024-01-10T10:35:00",
          "2024-01-10T10:40:00",
          "2024-01-10T10:45:00",
          "2024-01-10T10:50:00",
          "2024-01-10T10:55:00",
          "2024-01-10T11:00:00",
          "2024-01-10T11:05:00",
          "2024-01-10T11:10:00",
          "2024-01-10T11:15:00",
          "2024-01-10T11:20:00",
          "2024-01-10T11:25:00",
          "2024-01-10T11:30:00",
          "2024-01-10T11:35:00",
          "2024-01-10T11:40:00",
          "2024-01-10T11:45:00",
          "2024-01-10T11:50:00",
          "2024-01-10T11:55:00",
          "2024-01-10T12:00:00",
          "2024-01-10T12:05:00",
          "2024-01-10T12:10:00",
          "2024-01-10T12:15:00",
          "2024-01-10T12:20:00",
          "2024-01-10T12:25:00",
          "2024-01-10T12:30:00",
          "2024-01-10T12:35:00",
          "2024-01-10T12:40:00",
          "2024-01-10T12:45:00",
          "2024-01-10T12:50:00",
          "2024-01-10T12:55:00",
          "2024-01-10T13:00:00",
          "2024-01-10T13:05:00",
          "2024-01-10T13:10:00",
          "2024-01-10T13:15:00",
          "2024-01-10T13:20:00",
          "2024-01-10T13:25:00",
          "2024-01-10T13:30:00",
          "2024-01-10T13:35:00",
          "2024-01-10T13:40:00",
          "2024-01-10T13:45:00",
          "2024-01-10T13:50:00",
          "2024-01-10T13:55:00",
          "2024-01-10T14:00:00",
          "2024-01-10T14:05:00",
          "2024-01-10T14:10:00",
          "2024-01-10T14:15:00",
          "2024-01-10T14:20:00",
          "2024-01-10T14:25:00",
          "2024-01-10T14:30:00",
          "2024-01-10T14:35:00",
          "2024-01-10T14:40:00",
          "2024-01-10T14:45:00",
          "2024-01-10T14:50:00",
          "2024-01-10T14:55:00",
          "2024-01-10T15:00:00",
          "2024-01-10T15:05:00",
          "2024-01-10T15:10:00",
          "2024-01-10T15:15:00",
          "2024-01-10T15:20:00",
          "2024-01-10T15:25:00"
         ],
         "y": {
          "bdata": "m1Wfqy1rhEAg+sjAlLiFQJZDi2znxIZA/Knx0s35gUC2h6qFf9GBQIpEjpqcQYBA76SYlmvBgEAMAiuHlnyAQBXTco28qH9ActTkPHaggEARyuht2YKAQK0cWmQ7CH5ARGlv8IXTekB3mXRu7ZN8QNV7F9z8Hn9Amggbnl7IfEAQ7OVkzyF9QDrcIdjLSn5AgNxrLiQfgEBo2BUg94mAQIqO5PKfmoBArdUxwYNOgECGp1fKstWAQK1sDCdWZn9AOwFNhA24fkAeXZLwqtx+QNg6S6PcIX5ABlk84n2Bf0A+V1uxv+p8QIR2dEnCB3xAH89Bqjs9fUB2dEnCq4B9QPUAAy61A35A30+Nl26OfkD56r0LbiyAQLEubqMB439ANReSptRtgEBW6QEG3G2AQBHs5WRPAoBAZ9gVIPccfkDbRgN4C2R+QE/8GHPXs39A05e4aNuFf0AV03KNvHuBQI8JHswTvYFAUK+UZYihgUBN845T9O2AQO/Jw0KtT4BAUiRy1ORDgEBBpw102rqAQKldJp3bg4BADeAtkCBDgEB6W9bqmP6AQOsHYsaBdIBALGUZ4ti7gEAmnVv7FaWAQAhixgHhaHxAqO6kmJbxekBVMCqpE6B9QLpG3kxfLHxASVMqzj5Qe0CXa+TN9NB8QM70JS7anX5AZx8+w67SfEAjJVDX7TN6QPCtIrbOvnlAlka5IbMsfEBT3UkxLX56QF9zIWlKr3pAxYwDwmEMeEB3vp8aL1l5QNjIm+lLWXxA2V92Tx5je0B7W9bqmG17QAG511xITntA",
          "dtype": "f8"
         }
        },
        {
         "line": {
          "color": "red",
          "dash": "dot",
          "width": 1.5
         },
         "mode": "lines",
         "name": "S2",
         "type": "scatter",
         "x": [
          "2024-01-10T09:15:00",
          "2024-01-10T09:20:00",
          "2024-01-10T09:25:00",
          "2024-01-10T09:30:00",
          "2024-01-10T09:35:00",
          "2024-01-10T09:40:00",
          "2024-01-10T09:45:00",
          "2024-01-10T09:50:00",
          "2024-01-10T09:55:00",
          "2024-01-10T10:00:00",
          "2024-01-10T10:05:00",
          "2024-01-10T10:10:00",
          "2024-01-10T10:15:00",
          "2024-01-10T10:20:00",
          "2024-01-10T10:25:00",
          "2024-01-10T10:30:00",
          "2024-01-10T10:35:00",
          "2024-01-10T10:40:00",
          "2024-01-10T10:45:00",
          "2024-01-10T10:50:00",
          "2024-01-10T10:55:00",
          "2024-01-10T11:00:00",
          "2024-01-10T11:05:00",
          "2024-01-10T11:10:00",
          "2024-01-10T11:15:00",
          "2024-01-10T11:20:00",
          "2024-01-10T11:25:00",
          "2024-01-10T11:30:00",
          "2024-01-10T11:35:00",
          "2024-01-10T11:40:00",
          "2024-01-10T11:45:00",
          "2024-01-10T11:50:00",
          "2024-01-10T11:55:00",
          "2024-01-10T12:00:00",
          "2024-01-10T12:05:00",
          "2024-01-10T12:10:00",
          "2024-01-10T12:15:00",
          "2024-01-10T12:20:00",
          "2024-01-10T12:25:00",
          "2024-01-10T12:30:00",
          "2024-01-10T12:35:00",
          "2024-01-10T12:40:00",
          "2024-01-10T12:45:00",
          "2024-01-10T12:50:00",
          "2024-01-10T12:55:00",
          "2024-01-10T13:00:00",
          "2024-01-10T13:05:00",
          "2024-01-10T13:10:00",
          "2024-01-10T13:15:00",
          "2024-01-10T13:20:00",
          "2024-01-10T13:25:00",
          "2024-01-10T13:30:00",
          "2024-01-10T13:35:00",
          "2024-01-10T13:40:00",
          "2024-01-10T13:45:00",
          "2024-01-10T13:50:00",
          "2024-01-10T13:55:00",
          "2024-01-10T14:00:00",
          "2024-01-10T14:05:00",
          "2024-01-10T14:10:00",
          "2024-01-10T14:15:00",
          "2024-01-10T14:20:00",
          "2024-01-10T14:25:00",
          "2024-01-10T14:30:00",
          "2024-01-10T14:35:00",
          "2024-01-10T14:40:00",
          "2024-01-10T14:45:00",
          "2024-01-10T14:50:00",
          "2024-01-10T14:55:00",
          "2024-01-10T15:00:00",
          "2024-01-10T15:05:00",
          "2024-01-10T15:10:00",
          "2024-01-10T15:15:00",
          "2024-01-10T15:20:00",
          "2024-01-10T15:25:00"
         ],
         "y": {
          "bdata": "DOAtkGBwg0BdJp1bu0OFQBODwMohCYZARrbz/RQEgECUGzILWrqAQF4EoGSFq35AySxoR5dTf0CS7Xw/taZ/QLapp3x1+X1AtMVICdRKgEBx9uEzbPF/QC6yne8nuHxA7xZIUPxxeUDX7caVjQ17QFqJZouRKX5Aat5xig7Le0D+16ae8qR8QI+dynyaKX1AWh0TPJgtf0AcoYzeFimAQIenV8ryIYBA3GsuJE2Yf0DP1Vbsb2SAQOjc2q+oLn5A1gloIuzXfUBlYAr8zmp+QOb4ezyHcn1AOtnzIoC/fkBbIEHxY5t7QMJeTva8KntAgQGX2mWIfECSgSnwO+R8QOpLXLTteX1AYOXQItvTfUALJ1YzWER/QCcPC7UmNH9Aa3VM8KAygEDSbDFSQhqAQDHjgHCYZH9AHKGM3pYmfUDiNhrAW+59QLQV+8tul35A7xMamzDRe0AdEA7jWxWBQLqQNKXifoFAExQ/xtxigUCezarPFX+AQLprCfmgpX9AKFYzWF6Sf0BMfrHkF3OAQDrcIdiLRYBABTQRNryuf0B8hl0BcrSAQNagQoi+6n9A+MJkqiBEgECIPjIwBVmAQLaHqoV/zHpAaZdJ59YPeUB2Tx4Waud8QCGLR7xPW3tAJngwT9RlekBxGN8q4ot7QMX7hMam9n1AjlBGb8v9e0AHGHCp3Q95QEcr0WwxgHhA93gOUt13e0DVLpPOLaZ5QBm9LWt1BXpAqu6kmJa7dkDqJjEIrCR3QMtX713w7HtALGUZ4tj0ekDk7MNnWEF7QI5QRm/LLHtA",
          "dtype": "f8"
         }
        },
        {
         "line": {
          "color": "red",
          "dash": "dot",
          "width": 1.5
         },
         "mode": "lines",
         "name": "S3",
         "type": "scatter",
         "x": [
          "2024-01-10T09:15:00",
          "2024-01-10T09:20:00",
          "2024-01-10T09:25:00",
          "2024-01-10T09:30:00",
          "2024-01-10T09:35:00",
          "2024-01-10T09:40:00",
          "2024-01-10T09:45:00",
          "2024-01-10T09:50:00",
          "2024-01-10T09:55:00",
          "2024-01-10T10:00:00",
          "2024-01-10T10:05:00",
          "2024-01-10T10:10:00",
          "2024-01-10T10:15:00",
          "2024-01-10T10:20:00",
          "2024-01-10T10:25:00",
          "2024-01-10T10:30:00",
          "2024-01-10T10:35:00",
          "2024-01-10T10:40:00",
          "2024-01-10T10:45:00",
          "2024-01-10T10:50:00",
          "2024-01-10T10:55:00",
          "2024-01-10T11:00:00",
          "2024-01-10T11:05:00",
          "2024-01-10T11:10:00",
          "2024-01-10T11:15:00",
          "2024-01-10T11:20:00",
          "2024-01-10T11:25:00",
          "2024-01-10T11:30:00",
          "2024-01-10T11:35:00",
          "2024-01-10T11:40:00",
          "2024-01-10T11:45:00",
          "2024-01-10T11:50:00",
          "2024-01-10T11:55:00",
          "2024-01-10T12:00:00",
          "2024-01-10T12:05:00",
          "2024-01-10T12:10:00",
          "2024-01-10T12:15:00",
          "2024-01-10T12:20:00",
          "2024-01-10T12:25:00",
          "2024-01-10T12:30:00",
          "2024-01-10T12:35:00",
          "2024-01-10T12:40:00",
          "2024-01-10T12:45:00",
          "2024-01-10T12:50:00",
          "2024-01-10T12:55:00",
          "2024-01-10T13:00:00",
          "2024-01-10T13:05:00",
          "2024-01-10T13:10:00",
          "2024-01-10T13:15:00",
          "2024-01-10T13:20:00",
          "2024-01-10T13:25:00",
          "2024-01-10T13:30:00",
          "2024-01-10T13:35:00",
          "2024-01-10T13:40:00",
          "2024-01-10T13:45:00",
          "2024-01-10T13:50:00",
          "2024-01-10T13:55:00",
          "2024-01-10T14:00:00",
          "2024-01-10T14:05:00",
          "2024-01-10T14:10:00",
          "2024-01-10T14:15:00",
          "2024-01-10T14:20:00",
          "2024-01-10T14:25:00",
          "2024-01-10T14:30:00",
          "2024-01-10T14:35:00",
          "2024-01-10T14:40:00",
          "2024-01-10T14:45:00",
          "2024-01-10T14:50:00",
          "2024-01-10T14:55:00",
          "2024-01-10T15:00:00",
          "2024-01-10T15:05:00",
          "2024-01-10T15:10:00",
          "2024-01-10T15:15:00",
          "2024-01-10T15:20:00",
          "2024-01-10T15:25:00"
         ],
         "y": {
          "bdata": "zMzMzMxkgkAQEREREceEQM3MzMzMQIVAmpmZmZnZe0AQERERESF/QEREREREtHxA8O7u7u7+fECamZmZmT1+QFVVVVVVLXxA8O7u7u7ef0Cqqqqqqsp+QJqZmZmZUXtAzMzMzMz4d0AREREREW15QLu7u7u7I31AzczMzMy8ekC7u7u7ux98QBERERER9XtAqqqqqqoKfkB4d3d3d4N/QGZmZmZmQn9AIiIiIiKCfkAyMzMzM9d/QCEiIiIi4nxAzszMzMzofEBWVVVVVfF9QHd3d3d3t3xAiYiIiIjwfUCZmZmZmTV6QPDu7u7uPnpAeHd3d3fHe0BVVVVVVT18QO/u7u7u5nxAzczMzMwMfUBUVVVVVR1+QJmZmZmZeX5A7u7u7u7mf0AkIiIiIoJ/QN7d3d3duX5AvLu7u7sffEDMzMzMzHB9QP7/////Z31AERERERHdd0AjIiIiIqiAQImIiIiIPIFAAQAAAAAggUDMzMzMzAiAQDQzMzMzm35AioiIiIiMfkCJiIiIiCaAQBERERERA4BAzczMzMzIfkBVVVVVVWWAQHh3d3d3235AzMzMzMyIf0Dd3d3d3QeAQIiIiIiIFHlA3d3d3d0Nd0BmZmZmZiJ8QEVEREREfHpAvLu7u7treUARERERETF6QEVERERERH1Aq6qqqqoae0BERERERNh3QENERERELHdA7u7u7u62ekC8u7u7u794QEREREREUHlARURERERUdUBnZmZmZsp0QFZVVVVVeXtAMzMzMzN/ekAjIiIiIhJ7QBERERERCXtA",
          "dtype": "f8"
         }
        }
       ],
       "layout": {
        "height": 600,
        "legend": {
         "orientation": "h",
         "x": 1,
         "xanchor": "right",
         "y": 1.02,
         "yanchor": "bottom"
        },
        "template": {
         "data": {
          "bar": [
           {
            "error_x": {
             "color": "#2a3f5f"
            },
            "error_y": {
             "color": "#2a3f5f"
            },
            "marker": {
             "line": {
              "color": "white",
              "width": 0.5
             },
             "pattern": {
              "fillmode": "overlay",
              "size": 10,
              "solidity": 0.2
             }
            },
            "type": "bar"
           }
          ],
          "barpolar": [
           {
            "marker": {
             "line": {
              "color": "white",
              "width": 0.5
             },
             "pattern": {
              "fillmode": "overlay",
              "size": 10,
              "solidity": 0.2
             }
            },
            "type": "barpolar"
           }
          ],
          "carpet": [
           {
            "aaxis": {
             "endlinecolor": "#2a3f5f",
             "gridcolor": "#C8D4E3",
             "linecolor": "#C8D4E3",
             "minorgridcolor": "#C8D4E3",
             "startlinecolor": "#2a3f5f"
            },
            "baxis": {
             "endlinecolor": "#2a3f5f",
             "gridcolor": "#C8D4E3",
             "linecolor": "#C8D4E3",
             "minorgridcolor": "#C8D4E3",
             "startlinecolor": "#2a3f5f"
            },
            "type": "carpet"
           }
          ],
          "choropleth": [
           {
            "colorbar": {
             "outlinewidth": 0,
             "ticks": ""
            },
            "type": "choropleth"
           }
          ],
          "contour": [
           {
            "colorbar": {
             "outlinewidth": 0,
             "ticks": ""
            },
            "colorscale": [
             [
              0,
              "#0d0887"
             ],
             [
              0.1111111111111111,
              "#46039f"
             ],
             [
              0.2222222222222222,
              "#7201a8"
             ],
             [
              0.3333333333333333,
              "#9c179e"
             ],
             [
              0.4444444444444444,
              "#bd3786"
             ],
             [
              0.5555555555555556,
              "#d8576b"
             ],
             [
              0.6666666666666666,
              "#ed7953"
             ],
             [
              0.7777777777777778,
              "#fb9f3a"
             ],
             [
              0.8888888888888888,
              "#fdca26"
             ],
             [
              1,
              "#f0f921"
             ]
            ],
            "type": "contour"
           }
          ],
          "contourcarpet": [
           {
            "colorbar": {
             "outlinewidth": 0,
             "ticks": ""
            },
            "type": "contourcarpet"
           }
          ],
          "heatmap": [
           {
            "colorbar": {
             "outlinewidth": 0,
             "ticks": ""
            },
            "colorscale": [
             [
              0,
              "#0d0887"
             ],
             [
              0.1111111111111111,
              "#46039f"
             ],
             [
              0.2222222222222222,
              "#7201a8"
             ],
             [
              0.3333333333333333,
              "#9c179e"
             ],
             [
              0.4444444444444444,
              "#bd3786"
             ],
             [
              0.5555555555555556,
              "#d8576b"
             ],
             [
              0.6666666666666666,
              "#ed7953"
             ],
             [
              0.7777777777777778,
              "#fb9f3a"
             ],
             [
              0.8888888888888888,
              "#fdca26"
             ],
             [
              1,
              "#f0f921"
             ]
            ],
            "type": "heatmap"
           }
          ],
          "histogram": [
           {
            "marker": {
             "pattern": {
              "fillmode": "overlay",
              "size": 10,
              "solidity": 0.2
             }
            },
            "type": "histogram"
           }
          ],
          "histogram2d": [
           {
            "colorbar": {
             "outlinewidth": 0,
             "ticks": ""
            },
            "colorscale": [
             [
              0,
              "#0d0887"
             ],
             [
              0.1111111111111111,
              "#46039f"
             ],
             [
              0.2222222222222222,
              "#7201a8"
             ],
             [
              0.3333333333333333,
              "#9c179e"
             ],
             [
              0.4444444444444444,
              "#bd3786"
             ],
             [
              0.5555555555555556,
              "#d8576b"
             ],
             [
              0.6666666666666666,
              "#ed7953"
             ],
             [
              0.7777777777777778,
              "#fb9f3a"
             ],
             [
              0.8888888888888888,
              "#fdca26"
             ],
             [
              1,
              "#f0f921"
             ]
            ],
            "type": "histogram2d"
           }
          ],
          "histogram2dcontour": [
           {
            "colorbar": {
             "outlinewidth": 0,
             "ticks": ""
            },
            "colorscale": [
             [
              0,
              "#0d0887"
             ],
             [
              0.1111111111111111,
              "#46039f"
             ],
             [
              0.2222222222222222,
              "#7201a8"
             ],
             [
              0.3333333333333333,
              "#9c179e"
             ],
             [
              0.4444444444444444,
              "#bd3786"
             ],
             [
              0.5555555555555556,
              "#d8576b"
             ],
             [
              0.6666666666666666,
              "#ed7953"
             ],
             [
              0.7777777777777778,
              "#fb9f3a"
             ],
             [
              0.8888888888888888,
              "#fdca26"
             ],
             [
              1,
              "#f0f921"
             ]
            ],
            "type": "histogram2dcontour"
           }
          ],
          "mesh3d": [
           {
            "colorbar": {
             "outlinewidth": 0,
             "ticks": ""
            },
            "type": "mesh3d"
           }
          ],
          "parcoords": [
           {
            "line": {
             "colorbar": {
              "outlinewidth": 0,
              "ticks": ""
             }
            },
            "type": "parcoords"
           }
          ],
          "pie": [
           {
            "automargin": true,
            "type": "pie"
           }
          ],
          "scatter": [
           {
            "fillpattern": {
             "fillmode": "overlay",
             "size": 10,
             "solidity": 0.2
            },
            "type": "scatter"
           }
          ],
          "scatter3d": [
           {
            "line": {
             "colorbar": {
              "outlinewidth": 0,
              "ticks": ""
             }
            },
            "marker": {
             "colorbar": {
              "outlinewidth": 0,
              "ticks": ""
             }
            },
            "type": "scatter3d"
           }
          ],
          "scattercarpet": [
           {
            "marker": {
             "colorbar": {
              "outlinewidth": 0,
              "ticks": ""
             }
            },
            "type": "scattercarpet"
           }
          ],
          "scattergeo": [
           {
            "marker": {
             "colorbar": {
              "outlinewidth": 0,
              "ticks": ""
             }
            },
            "type": "scattergeo"
           }
          ],
          "scattergl": [
           {
            "marker": {
             "colorbar": {
              "outlinewidth": 0,
              "ticks": ""
             }
            },
            "type": "scattergl"
           }
          ],
          "scattermap": [
           {
            "marker": {
             "colorbar": {
              "outlinewidth": 0,
              "ticks": ""
             }
            },
            "type": "scattermap"
           }
          ],
          "scattermapbox": [
           {
            "marker": {
             "colorbar": {
              "outlinewidth": 0,
              "ticks": ""
             }
            },
            "type": "scattermapbox"
           }
          ],
          "scatterpolar": [
           {
            "marker": {
             "colorbar": {
              "outlinewidth": 0,
              "ticks": ""
             }
            },
            "type": "scatterpolar"
           }
          ],
          "scatterpolargl": [
           {
            "marker": {
             "colorbar": {
              "outlinewidth": 0,
              "ticks": ""
             }
            },
            "type": "scatterpolargl"
           }
          ],
          "scatterternary": [
           {
            "marker": {
             "colorbar": {
              "outlinewidth": 0,
              "ticks": ""
             }
            },
            "type": "scatterternary"
           }
          ],
          "surface": [
           {
            "colorbar": {
             "outlinewidth": 0,
             "ticks": ""
            },
            "colorscale": [
             [
              0,
              "#0d0887"
             ],
             [
              0.1111111111111111,
              "#46039f"
             ],
             [
              0.2222222222222222,
              "#7201a8"
             ],
             [
              0.3333333333333333,
              "#9c179e"
             ],
             [
              0.4444444444444444,
              "#bd3786"
             ],
             [
              0.5555555555555556,
              "#d8576b"
             ],
             [
              0.6666666666666666,
              "#ed7953"
             ],
             [
              0.7777777777777778,
              "#fb9f3a"
             ],
             [
              0.8888888888888888,
              "#fdca26"
             ],
             [
              1,
              "#f0f921"
             ]
            ],
            "type": "surface"
           }
          ],
          "table": [
           {
            "cells": {
             "fill": {
              "color": "#EBF0F8"
             },
             "line": {
              "color": "white"
             }
            },
            "header": {
             "fill": {
              "color": "#C8D4E3"
             },
             "line": {
              "color": "white"
             }
            },
            "type": "table"
           }
          ]
         },
         "layout": {
          "annotationdefaults": {
           "arrowcolor": "#2a3f5f",
           "arrowhead": 0,
           "arrowwidth": 1
          },
          "autotypenumbers": "strict",
          "coloraxis": {
           "colorbar": {
            "outlinewidth": 0,
            "ticks": ""
           }
          },
          "colorscale": {
           "diverging": [
            [
             0,
             "#8e0152"
            ],
            [
             0.1,
             "#c51b7d"
            ],
            [
             0.2,
             "#de77ae"
            ],
            [
             0.3,
             "#f1b6da"
            ],
            [
             0.4,
             "#fde0ef"
            ],
            [
             0.5,
             "#f7f7f7"
            ],
            [
             0.6,
             "#e6f5d0"
            ],
            [
             0.7,
             "#b8e186"
            ],
            [
             0.8,
             "#7fbc41"
            ],
            [
             0.9,
             "#4d9221"
            ],
            [
             1,
             "#276419"
            ]
           ],
           "sequential": [
            [
             0,
             "#0d0887"
            ],
            [
             0.1111111111111111,
             "#46039f"
            ],
            [
             0.2222222222222222,
             "#7201a8"
            ],
            [
             0.3333333333333333,
             "#9c179e"
            ],
            [
             0.4444444444444444,
             "#bd3786"
            ],
            [
             0.5555555555555556,
             "#d8576b"
            ],
            [
             0.6666666666666666,
             "#ed7953"
            ],
            [
             0.7777777777777778,
             "#fb9f3a"
            ],
            [
             0.8888888888888888,
             "#fdca26"
            ],
            [
             1,
             "#f0f921"
            ]
           ],
           "sequentialminus": [
            [
             0,
             "#0d0887"
            ],
            [
             0.1111111111111111,
             "#46039f"
            ],
            [
             0.2222222222222222,
             "#7201a8"
            ],
            [
             0.3333333333333333,
             "#9c179e"
            ],
            [
             0.4444444444444444,
             "#bd3786"
            ],
            [
             0.5555555555555556,
             "#d8576b"
            ],
            [
             0.6666666666666666,
             "#ed7953"
            ],
            [
             0.7777777777777778,
             "#fb9f3a"
            ],
            [
             0.8888888888888888,
             "#fdca26"
            ],
            [
             1,
             "#f0f921"
            ]
           ]
          },
          "colorway": [
           "#636efa",
           "#EF553B",
           "#00cc96",
           "#ab63fa",
           "#FFA15A",
           "#19d3f3",
           "#FF6692",
           "#B6E880",
           "#FF97FF",
           "#FECB52"
          ],
          "font": {
           "color": "#2a3f5f"
          },
          "geo": {
           "bgcolor": "white",
           "lakecolor": "white",
           "landcolor": "white",
           "showlakes": true,
           "showland": true,
           "subunitcolor": "#C8D4E3"
          },
          "hoverlabel": {
           "align": "left"
          },
          "hovermode": "closest",
          "mapbox": {
           "style": "light"
          },
          "paper_bgcolor": "white",
          "plot_bgcolor": "white",
          "polar": {
           "angularaxis": {
            "gridcolor": "#EBF0F8",
            "linecolor": "#EBF0F8",
            "ticks": ""
           },
           "bgcolor": "white",
           "radialaxis": {
            "gridcolor": "#EBF0F8",
            "linecolor": "#EBF0F8",
            "ticks": ""
           }
          },
          "scene": {
           "xaxis": {
            "backgroundcolor": "white",
            "gridcolor": "#DFE8F3",
            "gridwidth": 2,
            "linecolor": "#EBF0F8",
            "showbackground": true,
            "ticks": "",
            "zerolinecolor": "#EBF0F8"
           },
           "yaxis": {
            "backgroundcolor": "white",
            "gridcolor": "#DFE8F3",
            "gridwidth": 2,
            "linecolor": "#EBF0F8",
            "showbackground": true,
            "ticks": "",
            "zerolinecolor": "#EBF0F8"
           },
           "zaxis": {
            "backgroundcolor": "white",
            "gridcolor": "#DFE8F3",
            "gridwidth": 2,
            "linecolor": "#EBF0F8",
            "showbackground": true,
            "ticks": "",
            "zerolinecolor": "#EBF0F8"
           }
          },
          "shapedefaults": {
           "line": {
            "color": "#2a3f5f"
           }
          },
          "ternary": {
           "aaxis": {
            "gridcolor": "#DFE8F3",
            "linecolor": "#A2B1C6",
            "ticks": ""
           },
           "baxis": {
            "gridcolor": "#DFE8F3",
            "linecolor": "#A2B1C6",
            "ticks": ""
           },
           "bgcolor": "white",
           "caxis": {
            "gridcolor": "#DFE8F3",
            "linecolor": "#A2B1C6",
            "ticks": ""
           }
          },
          "title": {
           "x": 0.05
          },
          "xaxis": {
           "automargin": true,
           "gridcolor": "#EBF0F8",
           "linecolor": "#EBF0F8",
           "ticks": "",
           "title": {
            "standoff": 15
           },
           "zerolinecolor": "#EBF0F8",
           "zerolinewidth": 2
          },
          "yaxis": {
           "automargin": true,
           "gridcolor": "#EBF0F8",
           "linecolor": "#EBF0F8",
           "ticks": "",
           "title": {
            "standoff": 15
           },
           "zerolinecolor": "#EBF0F8",
           "zerolinewidth": 2
          }
         }
        },
        "title": {
         "text": "Closing Prices and Levels"
        },
        "width": 1000,
        "xaxis": {
         "title": {
          "text": "Date"
         }
        },
        "yaxis": {
         "title": {
          "text": "Price"
         }
        }
       }
      }
     },
     "metadata": {},
     "output_type": "display_data"
    },
    {
     "name": "stdout",
     "output_type": "stream",
     "text": [
      "+----+---------------------+--------+--------+--------+---------+---------+---------+---------+---------+---------+---------+---------+\n",
      "|    | date                |   open |   high |    low |   close |   pivot |      R1 |      R2 |      R3 |      S1 |      S2 |      S3 |\n",
      "+====+=====================+========+========+========+=========+=========+=========+=========+=========+=========+=========+=========+\n",
      "|  0 | 2024-01-10 09:15:00 | 650    | 741.85 | 637    |  701.5  | 693.45  | 733.503 | 764.853 | 798.3   | 653.397 | 622.047 | 588.6   |\n",
      "+----+---------------------+--------+--------+--------+---------+---------+---------+---------+---------+---------+---------+---------+\n",
      "|  1 | 2024-01-10 09:20:00 | 701.5  | 738    | 689.15 |  714.05 | 713.733 | 732.394 | 747     | 762.583 | 695.073 | 680.466 | 664.883 |\n",
      "+----+---------------------+--------+--------+--------+---------+---------+---------+---------+---------+---------+---------+---------+\n",
      "|  2 | 2024-01-10 09:25:00 | 714.05 | 785    | 706.5  |  784.3  | 758.6   | 788.587 | 812.058 | 837.1   | 728.613 | 705.142 | 680.1   |\n",
      "+----+---------------------+--------+--------+--------+---------+---------+---------+---------+---------+---------+---------+---------+\n",
      "|  3 | 2024-01-10 09:30:00 | 784.3  | 794.4  | 584.65 |  587    | 655.35  | 735.475 | 798.19  | 865.1   | 575.226 | 512.51  | 445.6   |\n",
      "+----+---------------------+--------+--------+--------+---------+---------+---------+---------+---------+---------+---------+---------+\n",
      "|  4 | 2024-01-10 09:35:00 | 587    | 679    | 562.3  |  603    | 614.767 | 659.346 | 694.239 | 731.467 | 570.187 | 535.294 | 498.067 |\n",
      "+----+---------------------+--------+--------+--------+---------+---------+---------+---------+---------+---------+---------+---------+\n",
      "|  5 | 2024-01-10 09:40:00 | 603    | 623.6  | 525    |  525    | 557.867 | 595.532 | 625.013 | 656.467 | 520.201 | 490.72  | 459.267 |\n",
      "+----+---------------------+--------+--------+--------+---------+---------+---------+---------+---------+---------+---------+---------+\n",
      "|  6 | 2024-01-10 09:45:00 | 525    | 636.85 | 519.95 |  585.7  | 580.833 | 625.489 | 660.442 | 697.733 | 536.178 | 501.224 | 463.933 |\n",
      "+----+---------------------+--------+--------+--------+---------+---------+---------+---------+---------+---------+---------+---------+\n",
      "|  7 | 2024-01-10 09:50:00 | 585.7  | 596    | 525.25 |  542.55 | 554.6   | 581.627 | 602.781 | 625.35  | 527.573 | 506.419 | 483.85  |\n",
      "+----+---------------------+--------+--------+--------+---------+---------+---------+---------+---------+---------+---------+---------+\n",
      "|  8 | 2024-01-10 09:55:00 | 542.55 | 593.2  | 503.05 |  526.7  | 540.983 | 575.421 | 602.375 | 631.133 | 506.546 | 479.591 | 450.833 |\n",
      "+----+---------------------+--------+--------+--------+---------+---------+---------+---------+---------+---------+---------+---------+\n",
      "|  9 | 2024-01-10 10:00:00 | 526.7  | 562    | 526.2  |  549    | 545.733 | 559.409 | 570.113 | 581.533 | 532.058 | 521.354 | 509.933 |\n",
      "+----+---------------------+--------+--------+--------+---------+---------+---------+---------+---------+---------+---------+---------+\n",
      "| 10 | 2024-01-10 10:05:00 | 549    | 580.25 | 522.5  |  548.5  | 550.417 | 572.477 | 589.744 | 608.167 | 528.356 | 511.089 | 492.667 |\n",
      "+----+---------------------+--------+--------+--------+---------+---------+---------+---------+---------+---------+---------+---------+\n",
      "| 11 | 2024-01-10 10:10:00 | 548.5  | 549.95 | 479.7  |  492.4  | 507.35  | 534.186 | 555.19  | 577.6   | 480.515 | 459.51  | 437.1   |\n",
      "+----+---------------------+--------+--------+--------+---------+---------+---------+---------+---------+---------+---------+---------+\n",
      "| 12 | 2024-01-10 10:15:00 | 492.4  | 500.1  | 426.2  |  446.05 | 457.45  | 485.68  | 507.776 | 531.35  | 429.22  | 407.124 | 383.55  |\n",
      "+----+---------------------+--------+--------+--------+---------+---------+---------+---------+---------+---------+---------+---------+\n",
      "| 13 | 2024-01-10 10:20:00 | 446.05 | 519    | 437.4  |  508.85 | 488.417 | 519.588 | 543.986 | 570.017 | 457.245 | 432.847 | 406.817 |\n",
      "+----+---------------------+--------+--------+--------+---------+---------+---------+---------+---------+---------+---------+---------+\n",
      "| 14 | 2024-01-10 10:25:00 | 508.85 | 549.75 | 498.45 |  504.4  | 517.533 | 537.13  | 552.469 | 568.833 | 497.937 | 482.598 | 466.233 |\n",
      "+----+---------------------+--------+--------+--------+---------+---------+---------+---------+---------+---------+---------+---------+\n",
      "| 15 | 2024-01-10 10:30:00 | 504.4  | 509.25 | 456.3  |  476.7  | 480.75  | 500.977 | 516.809 | 533.7   | 460.523 | 444.691 | 427.8   |\n",
      "+----+---------------------+--------+--------+--------+---------+---------+---------+---------+---------+---------+---------+---------+\n",
      "| 16 | 2024-01-10 10:35:00 | 476.7  | 490.25 | 464.15 |  473.85 | 476.083 | 486.054 | 493.857 | 502.183 | 466.113 | 458.309 | 449.983 |\n",
      "+----+---------------------+--------+--------+--------+---------+---------+---------+---------+---------+---------+---------+---------+\n",
      "| 17 | 2024-01-10 10:40:00 | 473.85 | 530    | 469.55 |  523.75 | 507.767 | 530.859 | 548.933 | 568.217 | 484.675 | 466.6   | 447.317 |\n",
      "+----+---------------------+--------+--------+--------+---------+---------+---------+---------+---------+---------+---------+---------+\n",
      "| 18 | 2024-01-10 10:45:00 | 523.75 | 564.65 | 507.65 |  540.7  | 537.667 | 559.441 | 576.484 | 594.667 | 515.893 | 498.85  | 480.667 |\n",
      "+----+---------------------+--------+--------+--------+---------+---------+---------+---------+---------+---------+---------+---------+\n",
      "| 19 | 2024-01-10 10:50:00 | 540.7  | 564.6  | 524.1  |  545.45 | 544.717 | 560.188 | 572.297 | 585.217 | 529.246 | 517.136 | 504.217 |\n",
      "+----+---------------------+--------+--------+--------+---------+---------+---------+---------+---------+---------+---------+---------+\n",
      "| 20 | 2024-01-10 10:55:00 | 545.45 | 573.75 | 523.3  |  554.75 | 550.6   | 569.872 | 584.956 | 601.05  | 531.328 | 516.244 | 500.15  |\n",
      "+----+---------------------+--------+--------+--------+---------+---------+---------+---------+---------+---------+---------+---------+\n",
      "| 21 | 2024-01-10 11:00:00 | 554.75 | 572.7  | 518.2  |  537    | 542.633 | 563.452 | 579.748 | 597.133 | 521.814 | 505.519 | 488.133 |\n",
      "+----+---------------------+--------+--------+--------+---------+---------+---------+---------+---------+---------+---------+---------+\n",
      "| 22 | 2024-01-10 11:05:00 | 537    | 581.35 | 534    |  555.05 | 556.8   | 574.888 | 589.045 | 604.15  | 538.712 | 524.555 | 509.45  |\n",
      "+----+---------------------+--------+--------+--------+---------+---------+---------+---------+---------+---------+---------+---------+\n",
      "| 23 | 2024-01-10 11:10:00 | 555.05 | 569.35 | 504.2  |  508.3  | 527.283 | 552.171 | 571.65  | 592.433 | 502.396 | 482.916 | 462.133 |\n",
      "+----+---------------------+--------+--------+--------+---------+---------+---------+---------+---------+---------+---------+---------+\n",
      "| 24 | 2024-01-10 11:15:00 | 508.3  | 530.55 | 483.7  |  513.95 | 509.4   | 527.297 | 541.305 | 556.25  | 491.503 | 477.495 | 462.55  |\n",
      "+----+---------------------+--------+--------+--------+---------+---------+---------+---------+---------+---------+---------+---------+\n",
      "| 25 | 2024-01-10 11:20:00 | 513.95 | 517.5  | 493.7  |  497.45 | 502.883 | 511.975 | 519.091 | 526.683 | 493.792 | 486.676 | 479.083 |\n",
      "+----+---------------------+--------+--------+--------+---------+---------+---------+---------+---------+---------+---------+---------+\n",
      "| 26 | 2024-01-10 11:25:00 | 497.45 | 511.5  | 474.85 |  502    | 496.117 | 510.117 | 521.075 | 532.767 | 482.116 | 471.158 | 459.467 |\n",
      "+----+---------------------+--------+--------+--------+---------+---------+---------+---------+---------+---------+---------+---------+\n",
      "| 27 | 2024-01-10 11:30:00 | 502    | 533.1  | 492.55 |  533.1  | 519.583 | 535.073 | 547.198 | 560.133 | 504.093 | 491.969 | 479.033 |\n",
      "+----+---------------------+--------+--------+--------+---------+---------+---------+---------+---------+---------+---------+---------+\n",
      "| 28 | 2024-01-10 11:35:00 | 533.1  | 533.1  | 463    |  472.25 | 489.45  | 516.228 | 537.188 | 559.55  | 462.672 | 441.712 | 419.35  |\n",
      "+----+---------------------+--------+--------+--------+---------+---------+---------+---------+---------+---------+---------+---------+\n",
      "| 29 | 2024-01-10 11:40:00 | 472.25 | 483    | 436.8  |  478.6  | 466.133 | 483.782 | 497.596 | 512.333 | 448.485 | 434.671 | 419.933 |\n",
      "+----+---------------------+--------+--------+--------+---------+---------+---------+---------+---------+---------+---------+---------+\n",
      "| 30 | 2024-01-10 11:45:00 | 478.6  | 500.4  | 462.6  |  483.8  | 482.267 | 496.706 | 508.008 | 520.067 | 467.827 | 456.525 | 444.467 |\n",
      "+----+---------------------+--------+--------+--------+---------+---------+---------+---------+---------+---------+---------+---------+\n",
      "| 31 | 2024-01-10 11:50:00 | 483.8  | 499.65 | 466.95 |  487    | 484.533 | 497.025 | 506.802 | 517.233 | 472.042 | 462.265 | 451.833 |\n",
      "+----+---------------------+--------+--------+--------+---------+---------+---------+---------+---------+---------+---------+---------+\n",
      "| 32 | 2024-01-10 11:55:00 | 487    | 506.75 | 477.95 |  489    | 491.233 | 502.235 | 510.846 | 520.033 | 480.232 | 471.621 | 462.433 |\n",
      "+----+---------------------+--------+--------+--------+---------+---------+---------+---------+---------+---------+---------+---------+\n",
      "| 33 | 2024-01-10 12:00:00 | 489    | 517    | 478    |  516.4  | 503.8   | 518.698 | 530.359 | 542.8   | 488.902 | 477.241 | 464.8   |\n",
      "+----+---------------------+--------+--------+--------+---------+---------+---------+---------+---------+---------+---------+---------+\n",
      "| 34 | 2024-01-10 12:05:00 | 516.4  | 571.35 | 513.55 |  534    | 539.633 | 561.713 | 578.995 | 597.433 | 517.554 | 500.272 | 481.833 |\n",
      "+----+---------------------+--------+--------+--------+---------+---------+---------+---------+---------+---------+---------+---------+\n",
      "| 35 | 2024-01-10 12:10:00 | 536.3  | 542.5  | 505.95 |  524    | 524.15  | 538.112 | 549.041 | 560.7   | 510.188 | 499.259 | 487.6   |\n",
      "+----+---------------------+--------+--------+--------+---------+---------+---------+---------+---------+---------+---------+---------+\n",
      "| 36 | 2024-01-10 12:15:00 | 524    | 545.75 | 521    |  538.8  | 535.183 | 544.638 | 552.038 | 559.933 | 525.729 | 518.329 | 510.433 |\n",
      "+----+---------------------+--------+--------+--------+---------+---------+---------+---------+---------+---------+---------+---------+\n",
      "| 37 | 2024-01-10 12:20:00 | 538.8  | 555.55 | 520.6  |  541.1  | 539.083 | 552.434 | 562.884 | 574.033 | 525.732 | 515.282 | 504.133 |\n",
      "+----+---------------------+--------+--------+--------+---------+---------+---------+---------+---------+---------+---------+---------+\n",
      "| 38 | 2024-01-10 12:25:00 | 541.1  | 545.65 | 512.2  |  517.35 | 525.067 | 537.845 | 547.846 | 558.517 | 512.289 | 502.287 | 491.617 |\n",
      "+----+---------------------+--------+--------+--------+---------+---------+---------+---------+---------+---------+---------+---------+\n",
      "| 39 | 2024-01-10 12:30:00 | 517.35 | 531.55 | 480.05 |  492.85 | 501.483 | 521.156 | 536.555 | 552.983 | 481.81  | 466.412 | 449.983 |\n",
      "+----+---------------------+--------+--------+--------+---------+---------+---------+---------+---------+---------+---------+---------+\n",
      "| 40 | 2024-01-10 12:35:00 | 492.85 | 508.2  | 483.6  |  495.15 | 495.65  | 505.047 | 512.403 | 520.25  | 486.253 | 478.897 | 471.05  |\n",
      "+----+---------------------+--------+--------+--------+---------+---------+---------+---------+---------+---------+---------+---------+\n",
      "| 41 | 2024-01-10 12:40:00 | 495.15 | 551.45 | 492    |  546.4  | 529.95  | 552.66  | 570.435 | 589.4   | 507.24  | 489.465 | 470.5   |\n",
      "+----+---------------------+--------+--------+--------+---------+---------+---------+---------+---------+---------+---------+---------+\n",
      "| 42 | 2024-01-10 12:45:00 | 546.4  | 689.5  | 491.2  |  559.65 | 580.117 | 655.867 | 715.159 | 778.417 | 504.366 | 445.074 | 381.817 |\n",
      "+----+---------------------+--------+--------+--------+---------+---------+---------+---------+---------+---------+---------+---------+\n",
      "| 43 | 2024-01-10 12:50:00 | 559.65 | 601    | 558.2  |  568.25 | 575.817 | 592.166 | 604.963 | 618.617 | 559.467 | 546.67  | 533.017 |\n",
      "+----+---------------------+--------+--------+--------+---------+---------+---------+---------+---------+---------+---------+---------+\n",
      "| 44 | 2024-01-10 12:55:00 | 568.25 | 590.7  | 564.7  |  577.3  | 577.567 | 587.499 | 595.273 | 603.567 | 567.635 | 559.861 | 551.567 |\n",
      "+----+---------------------+--------+--------+--------+---------+---------+---------+---------+---------+---------+---------+---------+\n",
      "| 45 | 2024-01-10 13:00:00 | 577.3  | 586.8  | 560.6  |  575.2  | 574.2   | 584.208 | 592.042 | 600.4   | 564.192 | 556.358 | 548     |\n",
      "+----+---------------------+--------+--------+--------+---------+---------+---------+---------+---------+---------+---------+---------+\n",
      "| 46 | 2024-01-10 13:05:00 | 575.2  | 580.35 | 534    |  564    | 559.45  | 577.156 | 591.014 | 605.8   | 541.744 | 527.886 | 513.1   |\n",
      "+----+---------------------+--------+--------+--------+---------+---------+---------+---------+---------+---------+---------+---------+\n",
      "| 47 | 2024-01-10 13:10:00 | 564    | 572.05 | 519.85 |  533.8  | 541.9   | 561.84  | 577.448 | 594.1   | 521.96  | 506.352 | 489.7   |\n",
      "+----+---------------------+--------+--------+--------+---------+---------+---------+---------+---------+---------+---------+---------+\n",
      "| 48 | 2024-01-10 13:15:00 | 533.8  | 564.3  | 513    |  542.95 | 540.083 | 559.68  | 575.019 | 591.383 | 520.487 | 505.148 | 488.783 |\n",
      "+----+---------------------+--------+--------+--------+---------+---------+---------+---------+---------+---------+---------+---------+\n",
      "| 49 | 2024-01-10 13:20:00 | 542.95 | 563.85 | 533.85 |  542.75 | 546.817 | 558.277 | 567.247 | 576.817 | 535.357 | 526.387 | 516.817 |\n",
      "+----+---------------------+--------+--------+--------+---------+---------+---------+---------+---------+---------+---------+---------+\n",
      "| 50 | 2024-01-10 13:25:00 | 542.75 | 552.9  | 526.85 |  535.55 | 538.433 | 548.384 | 556.173 | 564.483 | 528.482 | 520.693 | 512.383 |\n",
      "+----+---------------------+--------+--------+--------+---------+---------+---------+---------+---------+---------+---------+---------+\n",
      "| 51 | 2024-01-10 13:30:00 | 535.55 | 554    | 508.95 |  549.85 | 537.6   | 554.809 | 568.279 | 582.65  | 520.391 | 506.921 | 492.55  |\n",
      "+----+---------------------+--------+--------+--------+---------+---------+---------+---------+---------+---------+---------+---------+\n",
      "| 52 | 2024-01-10 13:35:00 | 549.85 | 571    | 540    |  556    | 555.667 | 567.509 | 576.778 | 586.667 | 543.825 | 534.556 | 524.667 |\n",
      "+----+---------------------+--------+--------+--------+---------+---------+---------+---------+---------+---------+---------+---------+\n",
      "| 53 | 2024-01-10 13:40:00 | 556    | 582.3  | 529.15 |  529.15 | 546.867 | 567.17  | 583.062 | 600.017 | 526.563 | 510.672 | 493.717 |\n",
      "+----+---------------------+--------+--------+--------+---------+---------+---------+---------+---------+---------+---------+---------+\n",
      "| 54 | 2024-01-10 13:45:00 | 529.15 | 579.2  | 529.15 |  555.45 | 554.6   | 573.719 | 588.684 | 604.65  | 535.481 | 520.516 | 504.55  |\n",
      "+----+---------------------+--------+--------+--------+---------+---------+---------+---------+---------+---------+---------+---------+\n",
      "| 55 | 2024-01-10 13:50:00 | 555.45 | 565.45 | 533.65 |  535.25 | 544.783 | 556.931 | 566.439 | 576.583 | 532.636 | 523.128 | 512.983 |\n",
      "+----+---------------------+--------+--------+--------+---------+---------+---------+---------+---------+---------+---------+---------+\n",
      "| 56 | 2024-01-10 13:55:00 | 535.25 | 540.6  | 454.4  |  467.45 | 487.483 | 520.412 | 546.186 | 573.683 | 454.555 | 428.781 | 401.283 |\n",
      "+----+---------------------+--------+--------+--------+---------+---------+---------+---------+---------+---------+---------+---------+\n",
      "| 57 | 2024-01-10 14:00:00 | 460    | 504    | 403.3  |  501.4  | 469.567 | 508.034 | 538.143 | 570.267 | 431.099 | 400.99  | 368.867 |\n",
      "+----+---------------------+--------+--------+--------+---------+---------+---------+---------+---------+---------+---------+---------+\n",
      "| 58 | 2024-01-10 14:05:00 | 501.4  | 511.6  | 473    |  481.65 | 488.75  | 503.495 | 515.037 | 527.35  | 474.005 | 462.463 | 450.15  |\n",
      "+----+---------------------+--------+--------+--------+---------+---------+---------+---------+---------+---------+---------+---------+\n",
      "| 59 | 2024-01-10 14:10:00 | 481.65 | 492.75 | 449.05 |  460.6  | 467.467 | 484.16  | 497.226 | 511.167 | 450.773 | 437.707 | 423.767 |\n",
      "+----+---------------------+--------+--------+--------+---------+---------+---------+---------+---------+---------+---------+---------+\n",
      "| 60 | 2024-01-10 14:15:00 | 460.6  | 480.6  | 431.6  |  455    | 455.733 | 474.451 | 489.102 | 504.733 | 437.015 | 422.364 | 406.733 |\n",
      "+----+---------------------+--------+--------+--------+---------+---------+---------+---------+---------+---------+---------+---------+\n",
      "| 61 | 2024-01-10 14:20:00 | 455.9  | 513.95 | 446    |  501.1  | 487.017 | 512.974 | 533.291 | 554.967 | 461.06  | 440.743 | 419.067 |\n",
      "+----+---------------------+--------+--------+--------+---------+---------+---------+---------+---------+---------+---------+---------+\n",
      "| 62 | 2024-01-10 14:25:00 | 501.2  | 522    | 487.05 |  500.6  | 503.217 | 516.568 | 527.018 | 538.167 | 489.866 | 479.416 | 468.267 |\n",
      "+----+---------------------+--------+--------+--------+---------+---------+---------+---------+---------+---------+---------+---------+\n",
      "| 63 | 2024-01-10 14:30:00 | 500.6  | 504.05 | 459.55 |  470.9  | 478.167 | 495.166 | 508.471 | 522.667 | 461.168 | 447.862 | 433.667 |\n",
      "+----+---------------------+--------+--------+--------+---------+---------+---------+---------+---------+---------+---------+---------+\n",
      "| 64 | 2024-01-10 14:35:00 | 470.9  | 476.35 | 415.3  |  436.05 | 442.567 | 465.888 | 484.142 | 503.617 | 419.246 | 400.992 | 381.517 |\n",
      "+----+---------------------+--------+--------+--------+---------+---------+---------+---------+---------+---------+---------+---------+\n",
      "| 65 | 2024-01-10 14:40:00 | 436.05 | 466.6  | 400    |  445.5  | 437.367 | 462.808 | 482.721 | 503.967 | 411.925 | 392.012 | 370.767 |\n",
      "+----+---------------------+--------+--------+--------+---------+---------+---------+---------+---------+---------+---------+---------+\n",
      "| 66 | 2024-01-10 14:45:00 | 445.5  | 482.8  | 445    |  467.9  | 465.233 | 479.673 | 490.975 | 503.033 | 450.794 | 439.492 | 427.433 |\n",
      "+----+---------------------+--------+--------+--------+---------+---------+---------+---------+---------+---------+---------+---------+\n",
      "| 67 | 2024-01-10 14:50:00 | 467.9  | 469.1  | 423.95 |  430.35 | 441.133 | 458.381 | 471.88  | 486.283 | 423.886 | 410.386 | 395.983 |\n",
      "+----+---------------------+--------+--------+--------+---------+---------+---------+---------+---------+---------+---------+---------+\n",
      "| 68 | 2024-01-10 14:55:00 | 430.35 | 455    | 419.5  |  447.05 | 440.517 | 454.078 | 464.692 | 476.017 | 426.956 | 416.341 | 405.017 |\n",
      "+----+---------------------+--------+--------+--------+---------+---------+---------+---------+---------+---------+---------+---------+\n",
      "| 69 | 2024-01-10 15:00:00 | 447.05 | 458    | 387.6  |  389.4  | 411.667 | 438.559 | 459.609 | 482.067 | 384.774 | 363.724 | 341.267 |\n",
      "+----+---------------------+--------+--------+--------+---------+---------+---------+---------+---------+---------+---------+---------+\n",
      "| 70 | 2024-01-10 15:05:00 | 387.95 | 504.7  | 386.7  |  460.55 | 450.65  | 495.726 | 531.008 | 568.65  | 405.574 | 370.292 | 332.65  |\n",
      "+----+---------------------+--------+--------+--------+---------+---------+---------+---------+---------+---------+---------+---------+\n",
      "| 71 | 2024-01-10 15:10:00 | 460.55 | 473    | 450.35 |  463.35 | 462.233 | 470.886 | 477.658 | 484.883 | 453.581 | 446.809 | 439.583 |\n",
      "+----+---------------------+--------+--------+--------+---------+---------+---------+---------+---------+---------+---------+---------+\n",
      "| 72 | 2024-01-10 15:15:00 | 459.45 | 460.2  | 437.15 |  443.65 | 447     | 455.805 | 462.697 | 470.05  | 438.195 | 431.303 | 423.95  |\n",
      "+----+---------------------+--------+--------+--------+---------+---------+---------+---------+---------+---------+---------+---------+\n",
      "| 73 | 2024-01-10 15:20:00 | 443.6  | 447.2  | 437.95 |  442    | 442.383 | 445.917 | 448.683 | 451.633 | 438.85  | 436.084 | 433.133 |\n",
      "+----+---------------------+--------+--------+--------+---------+---------+---------+---------+---------+---------+---------+---------+\n",
      "| 74 | 2024-01-10 15:25:00 | 442    | 443.7  | 436.7  |  438.3  | 439.567 | 442.241 | 444.334 | 446.567 | 436.893 | 434.8   | 432.567 |\n",
      "+----+---------------------+--------+--------+--------+---------+---------+---------+---------+---------+---------+---------+---------+\n"
     ]
    }
   ],
   "source": [
    "plotter = Fibbonacci_Pivots(Converted)\n",
    "Final_Data =plotter.user()"
   ]
  }
 ],
 "metadata": {
  "kernelspec": {
   "display_name": "Python 3",
   "language": "python",
   "name": "python3"
  },
  "language_info": {
   "codemirror_mode": {
    "name": "ipython",
    "version": 3
   },
   "file_extension": ".py",
   "mimetype": "text/x-python",
   "name": "python",
   "nbconvert_exporter": "python",
   "pygments_lexer": "ipython3",
   "version": "3.13.1"
  }
 },
 "nbformat": 4,
 "nbformat_minor": 5
}
